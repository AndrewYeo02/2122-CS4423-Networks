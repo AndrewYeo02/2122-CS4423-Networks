{
 "cells": [
  {
   "cell_type": "markdown",
   "metadata": {
    "slideshow": {
     "slide_type": "slide"
    }
   },
   "source": [
    "### CS4423 - Networks\n",
    "Angela Carnevale <br>\n",
    "School of Mathematical and Statistical Sciences <br>\n",
    "NUI Galway\n",
    "\n",
    "#### 1. Graphs and Graph Theory\n",
    "\n",
    "# Week 3, lecture 2: \n",
    "\n",
    "# Bipartite Graphs and Projections. Paths and connection."
   ]
  },
  {
   "cell_type": "code",
   "execution_count": null,
   "metadata": {
    "slideshow": {
     "slide_type": "subslide"
    }
   },
   "outputs": [],
   "source": [
    "import networkx as nx\n",
    "import numpy as np"
   ]
  },
  {
   "cell_type": "code",
   "execution_count": null,
   "metadata": {},
   "outputs": [],
   "source": [
    "opts = { \"with_labels\": True, \"node_color\":'y' }"
   ]
  },
  {
   "cell_type": "markdown",
   "metadata": {
    "slideshow": {
     "slide_type": "slide"
    }
   },
   "source": [
    "## Bipartite Graphs and colorings"
   ]
  },
  {
   "cell_type": "markdown",
   "metadata": {
    "slideshow": {
     "slide_type": "subslide"
    }
   },
   "source": [
    "A **(vertex)-coloring** of a graph $G$ is an assignment of (finitely many) colors to the nodes of $G$,\n",
    "so that any two nodes which are connected by an edge have *different* colors.\n",
    "\n",
    "* A graph is called **$N$-colorable**, if it has a vertex coloring with (at most) $N$ colors.\n",
    "\n",
    "* The **chromatic number of a graph $G$** is smallest $N$ for which a graph $G$ is $N$-colorable."
   ]
  },
  {
   "cell_type": "markdown",
   "metadata": {
    "slideshow": {
     "slide_type": "subslide"
    }
   },
   "source": [
    "**Theorem.** Let $G$ be a graph.  The following are equivalent:\n",
    "\n",
    "* $G$ is bipartite;\n",
    "\n",
    "* $G$ is $2$-colorable;\n",
    " \n",
    "* each cycle in $G$ has even length.\n",
    "\n",
    "(We'll give precise definitions of **cycle** and **length** in a bit)\n"
   ]
  },
  {
   "cell_type": "markdown",
   "metadata": {
    "slideshow": {
     "slide_type": "subslide"
    }
   },
   "source": [
    "2D grids are examples of naturally bipartite graphs:"
   ]
  },
  {
   "cell_type": "code",
   "execution_count": null,
   "metadata": {},
   "outputs": [],
   "source": [
    "G44 = nx.grid_2d_graph(4, 4)\n",
    "nx.draw(G44)"
   ]
  },
  {
   "cell_type": "markdown",
   "metadata": {},
   "source": [
    "How would we go about finding a $2$-coloring of this graph?"
   ]
  },
  {
   "cell_type": "markdown",
   "metadata": {
    "slideshow": {
     "slide_type": "subslide"
    }
   },
   "source": [
    "The method `nx.bipartite.color` determines a $2$-coloring of a graph $G$ algorithmically, if it exists, i.e. if\n",
    "$G$ is bipartite."
   ]
  },
  {
   "cell_type": "code",
   "execution_count": null,
   "metadata": {},
   "outputs": [],
   "source": [
    "color = nx.bipartite.color(G44)"
   ]
  },
  {
   "cell_type": "markdown",
   "metadata": {},
   "source": [
    "This won't work on a graph that is not $2$-colorable:"
   ]
  },
  {
   "cell_type": "code",
   "execution_count": null,
   "metadata": {},
   "outputs": [],
   "source": [
    "nx.bipartite.color()"
   ]
  },
  {
   "cell_type": "code",
   "execution_count": null,
   "metadata": {
    "scrolled": true,
    "slideshow": {
     "slide_type": "subslide"
    }
   },
   "outputs": [],
   "source": [
    "color = [color[x] for x in G44.nodes()]\n",
    "color"
   ]
  },
  {
   "cell_type": "code",
   "execution_count": null,
   "metadata": {},
   "outputs": [],
   "source": [
    "opts2 = { \"with_labels\": True, \"node_color\":color, \"font_color\":'r' }"
   ]
  },
  {
   "cell_type": "code",
   "execution_count": null,
   "metadata": {
    "scrolled": true,
    "slideshow": {
     "slide_type": "subslide"
    }
   },
   "outputs": [],
   "source": [
    "nx.draw(G44, **opts2)"
   ]
  },
  {
   "cell_type": "markdown",
   "metadata": {},
   "source": [
    "Note how the nodes are labelled in a $2D$ grid in `networkx`..."
   ]
  },
  {
   "cell_type": "code",
   "execution_count": null,
   "metadata": {},
   "outputs": [],
   "source": [
    "G44.nodes()"
   ]
  },
  {
   "cell_type": "markdown",
   "metadata": {
    "slideshow": {
     "slide_type": "slide"
    }
   },
   "source": [
    "## Affiliation Networks and Projections\n",
    "\n",
    "Bipartite graphs arise in practice as models for **affiliation networks**.\n",
    "In such a network, on one side of the graph we find people or *actors*, and on the other side attributes \n",
    "of the people, such as common interests (books bought online, TV shows watched), workplaces, social events attended ...\n",
    "Edges in such network connect people with their attributes.\n",
    "\n"
   ]
  },
  {
   "cell_type": "markdown",
   "metadata": {
    "slideshow": {
     "slide_type": "subslide"
    }
   },
   "source": [
    "We could construct a bipartite graph on the vertex set consisting of the 40 respondents to the survey and the 10 TV shows by using the following adjacency list:"
   ]
  },
  {
   "cell_type": "code",
   "execution_count": null,
   "metadata": {},
   "outputs": [],
   "source": [
    "!cat data/TV.adj"
   ]
  },
  {
   "cell_type": "markdown",
   "metadata": {
    "slideshow": {
     "slide_type": "subslide"
    }
   },
   "source": [
    "...but a graph with 40+10 vertices would be a bit too big for us, so once more we select the first few responses and construct a graph from that."
   ]
  },
  {
   "cell_type": "code",
   "execution_count": null,
   "metadata": {},
   "outputs": [],
   "source": [
    "!cat data/TV_short.adj"
   ]
  },
  {
   "cell_type": "code",
   "execution_count": null,
   "metadata": {
    "slideshow": {
     "slide_type": "subslide"
    }
   },
   "outputs": [],
   "source": [
    "G=nx.read_adjlist(\"data/TV_short.adj\")"
   ]
  },
  {
   "cell_type": "code",
   "execution_count": null,
   "metadata": {},
   "outputs": [],
   "source": [
    "nx.draw(G, **opts)"
   ]
  },
  {
   "cell_type": "code",
   "execution_count": null,
   "metadata": {
    "slideshow": {
     "slide_type": "subslide"
    }
   },
   "outputs": [],
   "source": [
    "G.nodes()"
   ]
  },
  {
   "cell_type": "markdown",
   "metadata": {},
   "source": [
    "We can relabel the nodes in a way that it makes it easier for us later to handle the various sets of nodes."
   ]
  },
  {
   "cell_type": "code",
   "execution_count": null,
   "metadata": {},
   "outputs": [],
   "source": [
    "G=nx.relabel_nodes(G,{'01':0,'02':1,'03':2,'04':3,'05':4,'06':5,'07':6,'08':7})"
   ]
  },
  {
   "cell_type": "code",
   "execution_count": null,
   "metadata": {},
   "outputs": [],
   "source": [
    "G=nx.relabel_nodes(G,{'BB':10,'GoT':11,'Succ':12,'DG':13,'ST':14,'TW':15,'PB':16,'NP':17,'MrR':18,'SG':19})"
   ]
  },
  {
   "cell_type": "code",
   "execution_count": null,
   "metadata": {
    "slideshow": {
     "slide_type": "subslide"
    }
   },
   "outputs": [],
   "source": [
    "G.nodes()"
   ]
  },
  {
   "cell_type": "code",
   "execution_count": null,
   "metadata": {},
   "outputs": [],
   "source": [
    "color = nx.bipartite.color(G)\n",
    "print(color)"
   ]
  },
  {
   "cell_type": "code",
   "execution_count": null,
   "metadata": {},
   "outputs": [],
   "source": [
    "color = [color[i] for i in G.nodes()]\n",
    "opts2[\"node_color\"] = color"
   ]
  },
  {
   "cell_type": "code",
   "execution_count": null,
   "metadata": {
    "slideshow": {
     "slide_type": "subslide"
    }
   },
   "outputs": [],
   "source": [
    "nx.draw(G,nx.bipartite_layout(G, range(8), align='vertical'),**opts2)"
   ]
  },
  {
   "cell_type": "markdown",
   "metadata": {
    "slideshow": {
     "slide_type": "subslide"
    }
   },
   "source": [
    "**Note.** The adjacency matrix $A$ of a bipartite graph $G$, with respect to a suitable ordering of the vertices\n",
    "($X_1$ first, then $X_2$), has the form of a $2 \\times 2$-block matrix,\n",
    "$$\n",
    "  A = \\left( \\begin{array}{cc} 0 & C \\\\ C^T & 0 \\end{array} \\right)\n",
    "$$\n",
    "where the blocks on the diagonal consist entirely of zeros, as there are no edges between vertices of the same color, and the lower left block is the **transpose** $C^T$ of the matrix $C$ of entries in the upper right. "
   ]
  },
  {
   "cell_type": "markdown",
   "metadata": {
    "slideshow": {
     "slide_type": "subslide"
    }
   },
   "source": [
    "To see the adjacency matrix in block form we need to give the nodes in a suitable order..."
   ]
  },
  {
   "cell_type": "code",
   "execution_count": null,
   "metadata": {},
   "outputs": [],
   "source": [
    "H=nx.Graph()\n",
    "H.add_nodes_from(range(8))\n",
    "H.add_nodes_from(range(10,20))"
   ]
  },
  {
   "cell_type": "markdown",
   "metadata": {
    "slideshow": {
     "slide_type": "subslide"
    }
   },
   "source": [
    "... and then import the edges from $G$."
   ]
  },
  {
   "cell_type": "code",
   "execution_count": null,
   "metadata": {},
   "outputs": [],
   "source": [
    "H.add_edges_from(G.edges())"
   ]
  },
  {
   "cell_type": "code",
   "execution_count": null,
   "metadata": {
    "slideshow": {
     "slide_type": "subslide"
    }
   },
   "outputs": [],
   "source": [
    "AA=nx.adjacency_matrix(H)"
   ]
  },
  {
   "cell_type": "code",
   "execution_count": null,
   "metadata": {},
   "outputs": [],
   "source": [
    "with np.printoptions(threshold=9999):\n",
    "    print(AA.toarray())"
   ]
  },
  {
   "cell_type": "markdown",
   "metadata": {
    "slideshow": {
     "slide_type": "subslide"
    }
   },
   "source": [
    "* In `NetworkX`, all parts of a graph can have **attributes**: the nodes, \n",
    "the edges, and the graph object itself.  Graph object attributes of a graph `G` are stored in the field `G.graph`.  By convention, the two\n",
    "underlying sets of a bipartite graph are stored here as attributes\n",
    "called `'top'` and `'bottom'`.\n",
    "\n",
    "* Here, we will simply construct lists of vertices from each of the two sets $X$ and $Y$ and construct a *biadjacency matrix* (this is all it's needed to (re)construct a bipartite graph!)."
   ]
  },
  {
   "cell_type": "code",
   "execution_count": null,
   "metadata": {
    "slideshow": {
     "slide_type": "subslide"
    }
   },
   "outputs": [],
   "source": [
    "X, Y = [i for i in range(8)], [i for i in range(10,20)]\n",
    "C = nx.bipartite.biadjacency_matrix(H, X, Y)\n",
    "print(C.toarray())"
   ]
  },
  {
   "cell_type": "markdown",
   "metadata": {
    "slideshow": {
     "slide_type": "subslide"
    }
   },
   "source": [
    "As $A = A^T$, we get\n",
    "\\\\[\n",
    "A^T \\cdot A = A \\cdot A^T = A \\cdot A = \n",
    "\\left(\n",
    "\\begin{array}{cc}\n",
    "C \\cdot C^T & 0 \\\\ 0 & C^T \\cdot C\n",
    "\\end{array}\n",
    "\\right)\n",
    "\\\\]\n",
    "where \n",
    "* $C \\cdot C^T$ is the adjacency matrix of the **projection** onto the vertex set $X$,\n",
    "and \n",
    "\n",
    "* $C^T \\cdot C$is the adjacency matrix of the **projection** onto the vertex set $Y$."
   ]
  },
  {
   "cell_type": "code",
   "execution_count": null,
   "metadata": {
    "slideshow": {
     "slide_type": "subslide"
    }
   },
   "outputs": [],
   "source": [
    "BB = nx.from_numpy_matrix((C*C.transpose()).toarray())\n",
    "nx.draw(BB, **opts)"
   ]
  },
  {
   "cell_type": "code",
   "execution_count": null,
   "metadata": {
    "slideshow": {
     "slide_type": "subslide"
    }
   },
   "outputs": [],
   "source": [
    "XX = nx.projected_graph(H, X)\n",
    "nx.draw(XX, **opts)"
   ]
  },
  {
   "cell_type": "code",
   "execution_count": null,
   "metadata": {
    "slideshow": {
     "slide_type": "subslide"
    }
   },
   "outputs": [],
   "source": [
    "YY = nx.projected_graph(H,Y)\n",
    "nx.draw(YY, **opts)"
   ]
  },
  {
   "cell_type": "code",
   "execution_count": null,
   "metadata": {
    "slideshow": {
     "slide_type": "subslide"
    }
   },
   "outputs": [],
   "source": [
    "print((C*C.transpose()).toarray())"
   ]
  },
  {
   "cell_type": "markdown",
   "metadata": {},
   "source": [
    "...where did we see this matrix already?"
   ]
  },
  {
   "cell_type": "markdown",
   "metadata": {
    "slideshow": {
     "slide_type": "slide"
    }
   },
   "source": [
    "#### 2. Tree and Graph Traversal\n",
    "\n",
    "## Paths and connection"
   ]
  },
  {
   "cell_type": "markdown",
   "metadata": {
    "slideshow": {
     "slide_type": "subslide"
    }
   },
   "source": [
    "Sequences of interconnected edges in a  graph are called **paths**,\n",
    "leading to notions of **connectivity** and **distance**.\n",
    "A **tree** is a particularly useful kind of connected graph,\n",
    "that is frequently used as a data structure in Computer Science.\n",
    "\n",
    "We will study **random trees** and some classical algorithms for tree traversal.\n",
    "A network has the structure of a tree when it is of a hierarchical nature,\n",
    "like an [ancestry chart](https://en.wikipedia.org/wiki/Pedigree_chart)\n",
    "or a **river network**."
   ]
  },
  {
   "cell_type": "markdown",
   "metadata": {
    "slideshow": {
     "slide_type": "subslide"
    }
   },
   "source": [
    "![A River Network](images/rivers.jpg)\n",
    "\n",
    "[Image from [EPA Maps](https://gis.epa.ie/EPAMaps/)]"
   ]
  },
  {
   "cell_type": "markdown",
   "metadata": {
    "slideshow": {
     "slide_type": "subslide"
    }
   },
   "source": [
    "## Paths\n",
    "\n",
    "The fundamental notion of **connectivity** in a network is closely\n",
    "related to the notion of **paths** in a graph."
   ]
  },
  {
   "cell_type": "markdown",
   "metadata": {
    "slideshow": {
     "slide_type": "subslide"
    }
   },
   "source": [
    "**Definitions.** \n",
    "    \n",
    "* A **path** in a graph $G = (X, E)$ is a sequence of nodes, where any pair of consecutive nodes in the sequence is (linked by) an edge in $E$.\n",
    "\n",
    "* Such a path can have repeated nodes. If it doesn't, the path is called a **simple path**.\n",
    "\n",
    "* The **length** of a path is the number of edges it involves (that is the number of nodes minus $1$).\n"
   ]
  },
  {
   "cell_type": "markdown",
   "metadata": {
    "slideshow": {
     "slide_type": "subslide"
    }
   },
   "source": [
    "**Definitions.** \n",
    "    \n",
    "* At each vertex $x \\in X$, there is a unique path of length $0$, the **empty path**, consisting of vertex $x$ only.\n",
    "\n",
    "* A **cycle** is a path of length at least $3$ that is a simple path, except for the first and the last node being the same."
   ]
  },
  {
   "cell_type": "code",
   "execution_count": null,
   "metadata": {
    "slideshow": {
     "slide_type": "subslide"
    }
   },
   "outputs": [],
   "source": [
    "nodes = 'ABCDEFGHIJKLM'\n",
    "edges = [\n",
    "    'AB', 'CE', 'FG', 'FH', 'GI', 'GJ', 'HJ', 'HL', 'HM', \n",
    "    'IK', 'JK', 'KL', 'LM'\n",
    "]\n",
    "GG = nx.Graph()\n",
    "GG.add_nodes_from(nodes)\n",
    "GG.add_edges_from(edges)"
   ]
  },
  {
   "cell_type": "code",
   "execution_count": null,
   "metadata": {},
   "outputs": [],
   "source": [
    "opts = { \"with_labels\": True, \"node_color\": 'y'}\n",
    "nx.draw(GG, **opts)"
   ]
  },
  {
   "cell_type": "markdown",
   "metadata": {},
   "source": [
    "* $(F, G, I)$ is a path in the graph above, and $(H, J, K, L, H)$ is a cycle."
   ]
  },
  {
   "cell_type": "markdown",
   "metadata": {
    "slideshow": {
     "slide_type": "subslide"
    }
   },
   "source": [
    "* A cycle in a simple graph provides, for any two nodes on that\n",
    "cycle, (at least) two different paths from one to the other.\n",
    "\n",
    "* Note that each edge (and node) of the 1970 Internet graph belongs to\n",
    "a cycle.  This makes the other way around the cycle an alternative\n",
    "route in case one of the edges should fail.\n",
    "\n",
    "* (In a *directed* network, paths are directed, too.\n",
    "A path from a vertex $x$ to a vertex $y$ is\n",
    "a sequence of vertices $x = x_0, x_1, \\dots, x_k = y$\n",
    "such that, for any $i = 1, \\dots, k$, there is\n",
    "an edge from $x_{i-1}$ to $x_i$ in the graph.)\n",
    "\n"
   ]
  },
  {
   "cell_type": "markdown",
   "metadata": {
    "slideshow": {
     "slide_type": "slide"
    }
   },
   "source": [
    "## Connected Components\n",
    "\n",
    "Communication and transportation networks tend to be connected, as\n",
    "this is their main purpose: to connect."
   ]
  },
  {
   "cell_type": "markdown",
   "metadata": {
    "slideshow": {
     "slide_type": "subslide"
    }
   },
   "source": [
    "**Definition.**\n",
    "    \n",
    "* A simple graph is **connected** if, for every pair of nodes, there is a path between them.\n",
    "        \n",
    "* If a graph is not connected, it naturally breaks into pieces, its **connected components**.\n",
    " "
   ]
  },
  {
   "cell_type": "markdown",
   "metadata": {
    "slideshow": {
     "slide_type": "subslide"
    }
   },
   "source": [
    "* The connected components of the graph above are the\n",
    "node sets $\\{A, B\\}$, $\\{C, E\\}$, $\\{D\\}$, and $\\{F,G,H,I,J,K,L,M\\}$.\n",
    "* Note that a component can consist of a single node only."
   ]
  },
  {
   "cell_type": "code",
   "execution_count": null,
   "metadata": {},
   "outputs": [],
   "source": [
    "list(nx.connected_components(GG))"
   ]
  },
  {
   "cell_type": "markdown",
   "metadata": {
    "slideshow": {
     "slide_type": "subslide"
    }
   },
   "source": [
    "**Note.** \n",
    "The relation 'there is a **path** from $x$ to $y$ on the node set $X$ of a\n",
    "graph is the **transitive closure** of the graph relation 'there is an\n",
    "**edge** between $x$ and $y$'.  It is \n",
    "\n",
    "* **reflexive** (as each node $x$ is\n",
    "connected to itself by the zero length path starting and ending at\n",
    "$x$), \n",
    "\n",
    "* **symmetric** (as a path from $x$ to $y$ can be used backwards as\n",
    "a path from $y$ to $x$), \n",
    "\n",
    "* and **transitive** (as a path from $x$ to $y$ and\n",
    "a path from $y$ to $z$ together make up a path from $x$ to $z$), \n",
    "\n",
    "hence\n",
    "an **equivalence relation**.\n",
    "The connected components of the graph are\n",
    "the parts (equivalence classes) of the corresponding **partition** of $X$."
   ]
  },
  {
   "cell_type": "markdown",
   "metadata": {
    "slideshow": {
     "slide_type": "slide"
    }
   },
   "source": [
    "##  Code Corner"
   ]
  },
  {
   "cell_type": "markdown",
   "metadata": {
    "slideshow": {
     "slide_type": "subslide"
    }
   },
   "source": [
    "### `numpy`"
   ]
  },
  {
   "cell_type": "markdown",
   "metadata": {},
   "source": [
    "* `array`: [[doc]](https://numpy.org/doc/stable/reference/generated/numpy.array.html)\n",
    "\n",
    "* `transpose`: [[doc]](https://numpy.org/doc/stable/reference/generated/numpy.transpose.html)\n",
    "\n",
    "* `printoptions`: [[doc]](https://numpy.org/doc/stable/reference/generated/numpy.printoptions.html) set options for printing arrays"
   ]
  },
  {
   "cell_type": "markdown",
   "metadata": {
    "slideshow": {
     "slide_type": "subslide"
    }
   },
   "source": [
    "### `networkx`"
   ]
  },
  {
   "cell_type": "markdown",
   "metadata": {},
   "source": [
    "* `grid_2d_graph`: [[doc]](https://networkx.org/documentation/stable/reference/generated/networkx.generators.lattice.grid_2d_graph.html)\n",
    "creates a 2D grid graph.\n",
    "\n",
    "* `bipartite.color`: [[doc]](https://networkx.org/documentation/stable/reference/algorithms/generated/networkx.algorithms.bipartite.basic.color.html) computes a $2$-coloring of a graph\n",
    "\n",
    "* `bipartite_layout`: [doc](https://networkx.org/documentation/stable/reference/generated/networkx.drawing.layout.bipartite_layout.html) works out a useful way to draw a bipartite graph"
   ]
  },
  {
   "cell_type": "markdown",
   "metadata": {
    "slideshow": {
     "slide_type": "subslide"
    }
   },
   "source": [
    "* `bipartite.biadjacency_matrix`: [[doc]](https://networkx.org/documentation/stable/reference/algorithms/generated/networkx.algorithms.bipartite.matrix.biadjacency_matrix.html) the incidence matrix of a bipartite graph\n",
    "\n",
    "* `projected_graph`: [[doc]](https://networkx.org/documentation/stable/reference/algorithms/generated/networkx.algorithms.bipartite.projection.projected_graph.html) the projected graph\n",
    "\n",
    "* `connected_components` [[doc]](https://networkx.github.io/documentation/stable/reference/algorithms/component.html)"
   ]
  },
  {
   "cell_type": "markdown",
   "metadata": {},
   "source": [
    "## Exercises\n",
    "\n",
    "1. Using `divmod` to create a dictionary `pos`, plot the graph `G` above as a bipartite graph. \n",
    "\n",
    "1. Compute the adjacency matrix of the bipartite graph $B$ at the top \n",
    "of this page and verify its block structure.\n",
    "\n",
    "1. Compute the biadjacency matrix $C$ of the graph $B$.\n",
    "\n",
    "1. Compute the two products of $C$ and its transpose,\n",
    "and, using the products as adjacency matrix, construct two graphs\n",
    "from them.\n",
    "\n",
    "1. Compute the two projections of the bipartite graph $B$ and\n",
    "compare them with the graphs constructed in the previous exercise."
   ]
  },
  {
   "cell_type": "code",
   "execution_count": null,
   "metadata": {},
   "outputs": [],
   "source": []
  },
  {
   "cell_type": "code",
   "execution_count": null,
   "metadata": {},
   "outputs": [],
   "source": []
  },
  {
   "cell_type": "code",
   "execution_count": null,
   "metadata": {},
   "outputs": [],
   "source": []
  },
  {
   "cell_type": "code",
   "execution_count": null,
   "metadata": {},
   "outputs": [],
   "source": []
  }
 ],
 "metadata": {
  "celltoolbar": "Slideshow",
  "kernelspec": {
   "display_name": "Python 3 (ipykernel)",
   "language": "python",
   "name": "python3"
  },
  "language_info": {
   "codemirror_mode": {
    "name": "ipython",
    "version": 3
   },
   "file_extension": ".py",
   "mimetype": "text/x-python",
   "name": "python",
   "nbconvert_exporter": "python",
   "pygments_lexer": "ipython3",
   "version": "3.9.7"
  }
 },
 "nbformat": 4,
 "nbformat_minor": 2
}
