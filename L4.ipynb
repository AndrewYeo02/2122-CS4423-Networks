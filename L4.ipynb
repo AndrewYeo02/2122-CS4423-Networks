{
 "cells": [
  {
   "cell_type": "markdown",
   "metadata": {
    "slideshow": {
     "slide_type": "slide"
    }
   },
   "source": [
    "### CS4423 - Networks\n",
    "Angela Carnevale<br/>\n",
    "School of Mathematical and Statistical Sciences<br/>\n",
    "NUI Galway\n",
    "\n",
    "#### 1. Graphs and Graph Theory\n",
    "\n",
    "\n",
    "# Week 3, Lecture 1: \n",
    "# Graphs, Relations and Matrices. Bipartite Graphs."
   ]
  },
  {
   "cell_type": "markdown",
   "metadata": {
    "slideshow": {
     "slide_type": "slide"
    }
   },
   "source": [
    " Together with `networkx`, we import `numpy` for matrix operations."
   ]
  },
  {
   "cell_type": "code",
   "execution_count": null,
   "metadata": {
    "slideshow": {
     "slide_type": "-"
    }
   },
   "outputs": [],
   "source": [
    "import networkx as nx\n",
    "import numpy as np\n",
    "opts={'with_labels':True,'node_color':'y'}"
   ]
  },
  {
   "cell_type": "markdown",
   "metadata": {
    "slideshow": {
     "slide_type": "slide"
    }
   },
   "source": [
    "## Graphs are Relations"
   ]
  },
  {
   "cell_type": "markdown",
   "metadata": {
    "slideshow": {
     "slide_type": "subslide"
    }
   },
   "source": [
    "We have seen that graphs can be interpreted as relations with certain properties:\n",
    "\n",
    "A **simple** graph with node set $X$ is a **symmetric**, **irreflexive** relation on $X$. \n",
    "\n",
    "The relation on the nodes that of *being adjacent*.  \n",
    "\n",
    "The **adjacency matrix** of a graph is a special case of adjacency matrix of a relation.\n"
   ]
  },
  {
   "cell_type": "markdown",
   "metadata": {
    "slideshow": {
     "slide_type": "subslide"
    }
   },
   "source": [
    "## Composition and Adjacency Matrices.\n",
    "\n",
    "* Relations can be composed, like functions.  \n",
    "\n",
    "* If $R$ is a relation\n",
    "from a set $X$ to a set $Y$, and if $S$ is a relation from $Y$ to a set $Z$,\n",
    "then the __composite relation__ $R \\circ S$ is the relation\n",
    "from $X$ to $Z$, defined by $x (R \\circ S) z$ if there is a\n",
    "an element $y \\in Y$ such that $x R y$ and $y S z$.\n",
    "\n",
    "* The adjacency matrix of the composite relation $R \\circ S$\n",
    "is *essentially* the (matrix) product of the adjacency matrices\n",
    "of the individual relations $R$ and $S$. \n",
    "\n",
    "Let's see how this works in practice..."
   ]
  },
  {
   "cell_type": "markdown",
   "metadata": {
    "slideshow": {
     "slide_type": "subslide"
    }
   },
   "source": [
    "We'll construct two relations starting from (part of) the data gathered through our survey on TV shows watched. \n",
    "\n",
    "By the way, here's a summary of the results:\n",
    "\n",
    "![TV survey summary](https://angelacarnevale.github.io/TV_survey_summary.png)"
   ]
  },
  {
   "cell_type": "markdown",
   "metadata": {
    "slideshow": {
     "slide_type": "subslide"
    }
   },
   "source": [
    "... and here's a list of the first $8$ responses that we will use to construct a relation:"
   ]
  },
  {
   "cell_type": "code",
   "execution_count": null,
   "metadata": {
    "scrolled": true
   },
   "outputs": [],
   "source": [
    "!cat TV_cut.txt"
   ]
  },
  {
   "cell_type": "markdown",
   "metadata": {
    "slideshow": {
     "slide_type": "subslide"
    }
   },
   "source": [
    "If we now consider $X=\\{1,2,3,4,5,6,7,8\\}$ the set of the first $8$ respondents and $Y=\\{BB,GoT,Succ,DG,ST,TW,PB,NP,MrR,SG\\}$ the set of all 10 TV shows in the list, the above data defines a relation $R\\subset X\\times Y$ with adjacency matrix:\n",
    "\n",
    "$$ A=\\begin{bmatrix}\n",
    "0&0&0&0&1&0&0&1&1&0\\\\\n",
    "1&1&0&1&1&1&0&1&1&1\\\\\n",
    "1&1&0&1&1&0&0&0&1&1\\\\\n",
    "0&1&0&1&0&0&0&0&0&1\\\\\n",
    "1&1&0&1&1&0&1&1&0&1\\\\\n",
    "1&0&0&1&1&0&1&1&0&1\\\\\n",
    "0&1&1&1&1&1&0&1&0&1\\\\\n",
    "0&0&0&0&0&0&0&0&1&0\\\\\\end{bmatrix}$$\n",
    "\n",
    "(here rows are indexed by elements of $X$ and columns by elements of $Y$)."
   ]
  },
  {
   "cell_type": "markdown",
   "metadata": {
    "slideshow": {
     "slide_type": "subslide"
    }
   },
   "source": [
    "Here's our adjacency matrix as a `numpy` array"
   ]
  },
  {
   "cell_type": "code",
   "execution_count": null,
   "metadata": {},
   "outputs": [],
   "source": [
    "A=np.array([[0,0,0,0,1,0,0,1,1,0],\n",
    " [1,1,0,1,1,1,0,1,1,1],\n",
    " [1,1,0,1,1,0,0,0,1,1],\n",
    " [0,1,0,1,0,0,0,0,0,1],\n",
    " [1,1,0,1,1,0,1,1,0,1],\n",
    " [1,0,0,1,1,0,1,1,0,1],\n",
    " [0,1,1,1,1,1,0,1,0,1],\n",
    " [0,0,0,0,0,0,0,0,1,0]])\n",
    "print(A)"
   ]
  },
  {
   "cell_type": "markdown",
   "metadata": {
    "slideshow": {
     "slide_type": "subslide"
    }
   },
   "source": [
    "What if we compose the relation $R:X\\to Y$ with its *transpose* $R^T:Y\\to X$? \n",
    "\n",
    "The transpose of the relation $R$ is simply the one that has $A^T$ as adjacency matrix. So at the level of matrices, this means multiplying $A$ by $A^T$, which we can do in `numpy` as follows:"
   ]
  },
  {
   "cell_type": "code",
   "execution_count": null,
   "metadata": {},
   "outputs": [],
   "source": [
    "B=A@A.transpose()\n",
    "print(B)"
   ]
  },
  {
   "cell_type": "markdown",
   "metadata": {
    "slideshow": {
     "slide_type": "subslide"
    }
   },
   "source": [
    "How can we interpret the entries of the above matrix in terms of TV shows and respondents?"
   ]
  },
  {
   "cell_type": "markdown",
   "metadata": {
    "slideshow": {
     "slide_type": "subslide"
    }
   },
   "source": [
    "We've seen that for two relations $R$ and $S$ that can be composed,\n",
    "\n",
    "* If $A = (a_{ij})$ is the adjacency matrix of $R$, and $B = (b_{jk})$ the adjacency matrix of $S$,\n",
    "then the $i,k$-entry of the product $AB$ is\n",
    "$$(AB)_{ik} = \\sum_{j} a_{ij} b_{jk},$$\n",
    "which is exactly the __number__ of elements $y \\in Y$ such that $x_i R\n",
    "y$ and $y S z_k$.  \n",
    "\n",
    "\n",
    "\n",
    "\n",
    "* This tells us that all it needs for $x_i$ to be $(R \\circ S)$-related\n",
    "to $z_k$ is this number to be at least $1$.  \n",
    "\n",
    "* Hence, replacing all\n",
    "nonzero entries in the product matrix $AB$ with $1$ yields the\n",
    "adjacency matrix of the composite $R \\circ S$."
   ]
  },
  {
   "cell_type": "markdown",
   "metadata": {
    "slideshow": {
     "slide_type": "subslide"
    }
   },
   "source": [
    "* In our case, the entry in position $(i,j)$ is **exactly the number of shows in common between the $i$th and $j$th respondent**.\n",
    "\n",
    "* We can use the observation above to transform the matrix $B$ into an adjacency matrix of a graph.\n",
    "\n",
    "* In `numpy`, one can use **boolean indexing** and other convenient methods to do so."
   ]
  },
  {
   "cell_type": "markdown",
   "metadata": {
    "slideshow": {
     "slide_type": "subslide"
    }
   },
   "source": [
    "First, we simply replace all the entries of $B$ which are stricly greater than $1$ with $1$s:"
   ]
  },
  {
   "cell_type": "code",
   "execution_count": null,
   "metadata": {},
   "outputs": [],
   "source": [
    "B[B>1]=1\n",
    "print(B)"
   ]
  },
  {
   "cell_type": "markdown",
   "metadata": {
    "slideshow": {
     "slide_type": "subslide"
    }
   },
   "source": [
    "Then, we fill the diagonal with zeros:"
   ]
  },
  {
   "cell_type": "code",
   "execution_count": null,
   "metadata": {
    "slideshow": {
     "slide_type": "-"
    }
   },
   "outputs": [],
   "source": [
    "np.fill_diagonal(B,0)\n",
    "print(B)"
   ]
  },
  {
   "cell_type": "markdown",
   "metadata": {
    "slideshow": {
     "slide_type": "subslide"
    }
   },
   "source": [
    "The above matrix is the adjacency matrix of the composite relation. It tells us something about the **common interests** of the $8$ actors under consideration: there is a $1$ in position $(i,j)$ if and only if the $i$th respondant and the $j$th respondent share at least one show on their watchlist. Here, we can see that the $1$st respondent and the $4$th, for instance, do not have any show in common (from our list)."
   ]
  },
  {
   "cell_type": "markdown",
   "metadata": {},
   "source": [
    "This is now the adjacency matrix of a homogeneous relation (on $X$) and we can therefore construct a graph. We'll do so directly from our `numpy` adjacency matrix."
   ]
  },
  {
   "cell_type": "code",
   "execution_count": null,
   "metadata": {
    "slideshow": {
     "slide_type": "subslide"
    }
   },
   "outputs": [],
   "source": [
    "G=nx.from_numpy_matrix(B)"
   ]
  },
  {
   "cell_type": "code",
   "execution_count": null,
   "metadata": {},
   "outputs": [],
   "source": [
    "nx.draw(G,**opts)"
   ]
  },
  {
   "cell_type": "markdown",
   "metadata": {
    "slideshow": {
     "slide_type": "subslide"
    }
   },
   "source": [
    "A graph like this one, representing the patterns of intersections of a family of sets, is also known as an [**intersection graph**](https://en.wikipedia.org/wiki/Intersection_graph). We'll encounter this graph in a different guise soon."
   ]
  },
  {
   "cell_type": "markdown",
   "metadata": {
    "slideshow": {
     "slide_type": "subslide"
    }
   },
   "source": [
    "Note that we could have used the *transpose* construction (that is, we could have taken $R^T\\circ R$):"
   ]
  },
  {
   "cell_type": "code",
   "execution_count": null,
   "metadata": {},
   "outputs": [],
   "source": [
    "C=A.transpose()@A\n",
    "print(C)"
   ]
  },
  {
   "cell_type": "markdown",
   "metadata": {
    "slideshow": {
     "slide_type": "subslide"
    }
   },
   "source": [
    "This time, the $(i,j)$ entry of the matrix tells us the number of people that have watched both the $i$th and the $j$th show. \n",
    "For instance, we note that nobody watched both *Breaking Bad* and *Succession* ($c_{1,3}=0=c_{3,1}$), and that nobody watched both *Peaky Blinders* and *Mr Robot* ($c_{7,9}=0=c_{9,7}$)."
   ]
  },
  {
   "cell_type": "markdown",
   "metadata": {},
   "source": [
    "As an exercise, you could construct an adjacency matrix and corresponding graph from the matrix $C$ (see also below)."
   ]
  },
  {
   "cell_type": "markdown",
   "metadata": {
    "slideshow": {
     "slide_type": "slide"
    }
   },
   "source": [
    "## Bipartite Graphs"
   ]
  },
  {
   "cell_type": "markdown",
   "metadata": {
    "slideshow": {
     "slide_type": "subslide"
    }
   },
   "source": [
    "A (simple) graph $G = (X, E)$ is called **bipartite**, if the vertex set $X$ is a disjoint union\n",
    "of two sets $X_1$ and $X_2$ so that each edge in $E$ links a vertex in $X_1$ with a vertex in $X_2$. \n",
    "\n",
    "We can think of the vertices in the two sets as **coloured** with different colours. For instance, we can think of nodes in $X_1$ as white nodes and those in $X_2$ as black nodes."
   ]
  },
  {
   "cell_type": "markdown",
   "metadata": {
    "slideshow": {
     "slide_type": "subslide"
    }
   },
   "source": [
    "Here is a sample bipartite graph $B$, specified to the `Graph` constructor by its edge list."
   ]
  },
  {
   "cell_type": "code",
   "execution_count": null,
   "metadata": {},
   "outputs": [],
   "source": [
    "edges = [(0,5), (1,5), (1,6), (1,7), (1,8), \n",
    "  (2,8), (3,5), (3,9), (4,7), (4,8), (4,9)]\n",
    "B = nx.Graph(edges)\n",
    "nx.draw(B, **opts)"
   ]
  },
  {
   "cell_type": "markdown",
   "metadata": {
    "slideshow": {
     "slide_type": "subslide"
    }
   },
   "source": [
    "In this graph, the **white** nodes can be taken  as the set $X_1 = \\{0,1,2,\\dots,4\\}$ \n",
    "and the **black** nodes as $X_2 = \\{5,6,\\dots,9\\}$.\n",
    "The drawing command `nx.draw` takes as optional argument a dictionary `pos` that specifies for\n",
    "each node a (relative) position in the drawing.  Here, the node is the key and the \n",
    "position is a pair of $x$,$y$-coordinates.  In this example we can use the (integer) quotient\n",
    "and remainder, as returned by the python method `divmod` to quickly compute a dictionary of positions\n",
    "that have the white nodes on the left, and the black nodes on the right."
   ]
  },
  {
   "cell_type": "code",
   "execution_count": null,
   "metadata": {
    "slideshow": {
     "slide_type": "subslide"
    }
   },
   "outputs": [],
   "source": [
    "divmod(7, 5)"
   ]
  },
  {
   "cell_type": "code",
   "execution_count": null,
   "metadata": {},
   "outputs": [],
   "source": [
    "pos = {x: divmod(x, 5) for x in range(10)}\n",
    "print(pos)"
   ]
  },
  {
   "cell_type": "code",
   "execution_count": null,
   "metadata": {},
   "outputs": [],
   "source": [
    "nx.draw(B, pos, **opts)"
   ]
  },
  {
   "cell_type": "markdown",
   "metadata": {},
   "source": [
    "Node colors can be specified as a *list* assigned to the keyword argument `node_color`.  We can use the $x$-coordinates of the node positions for that purpose."
   ]
  },
  {
   "cell_type": "code",
   "execution_count": null,
   "metadata": {},
   "outputs": [],
   "source": [
    "color = [pos[x][0] for x in B.nodes()]\n",
    "color"
   ]
  },
  {
   "cell_type": "code",
   "execution_count": null,
   "metadata": {},
   "outputs": [],
   "source": [
    "print(B.nodes)"
   ]
  },
  {
   "cell_type": "code",
   "execution_count": null,
   "metadata": {},
   "outputs": [],
   "source": [
    "opts2 = { \"with_labels\": True, \"node_color\": color, \"font_color\": 'r' }\n",
    "nx.draw(B, **opts2)"
   ]
  },
  {
   "cell_type": "code",
   "execution_count": null,
   "metadata": {},
   "outputs": [],
   "source": [
    "nx.draw(B, pos, **opts2)"
   ]
  },
  {
   "cell_type": "markdown",
   "metadata": {},
   "source": [
    "A **(vertex)-coloring** of a graph $G$ is an assignment of (finitely many) colors to the nodes of $G$,\n",
    "so that any two nodes which are connected by an edge have *different* colors.\n",
    "\n",
    "A graph is called **$N$-colorable**, if it has a vertex coloring with (at most) $N$ colors."
   ]
  },
  {
   "cell_type": "markdown",
   "metadata": {},
   "source": [
    "**Theorem.** Let $G$ be a graph.  The following are equivalent:\n",
    "\n",
    "* $G$ is bipartite;\n",
    "\n",
    "* $G$ is $2$-colorable;\n",
    " \n",
    "* each cycle in $G$ has even length.\n",
    "\n",
    "(We'll give precise definitions of **cycle** and **length** in a bit)\n",
    "\n"
   ]
  },
  {
   "cell_type": "markdown",
   "metadata": {},
   "source": [
    "2D grids are naturally bipartite:"
   ]
  },
  {
   "cell_type": "code",
   "execution_count": null,
   "metadata": {
    "scrolled": true
   },
   "outputs": [],
   "source": [
    "G44 = nx.grid_2d_graph(4, 4)\n",
    "nx.draw(G44)"
   ]
  },
  {
   "cell_type": "markdown",
   "metadata": {},
   "source": [
    "How would you find a $2$-coloring of this graph?"
   ]
  },
  {
   "cell_type": "markdown",
   "metadata": {
    "slideshow": {
     "slide_type": "slide"
    }
   },
   "source": [
    "##  Code Corner"
   ]
  },
  {
   "cell_type": "markdown",
   "metadata": {},
   "source": [
    "### `python`"
   ]
  },
  {
   "cell_type": "markdown",
   "metadata": {},
   "source": [
    "* `divmod`: [[doc]](https://docs.python.org/3/library/functions.html#divmod) the built-in quotient-and-remainder"
   ]
  },
  {
   "cell_type": "code",
   "execution_count": null,
   "metadata": {},
   "outputs": [],
   "source": [
    "divmod(-7, 5)"
   ]
  },
  {
   "cell_type": "markdown",
   "metadata": {
    "slideshow": {
     "slide_type": "subslide"
    }
   },
   "source": [
    "### `Numpy`"
   ]
  },
  {
   "cell_type": "markdown",
   "metadata": {},
   "source": [
    "* `toarray`:  convert a sparse matrix into a proper array"
   ]
  },
  {
   "cell_type": "markdown",
   "metadata": {},
   "source": [
    "* `fill_diagonal`: fill the diagonal entries of an array with a given value."
   ]
  },
  {
   "cell_type": "markdown",
   "metadata": {
    "slideshow": {
     "slide_type": "subslide"
    }
   },
   "source": [
    "### `networkx`"
   ]
  },
  {
   "cell_type": "markdown",
   "metadata": {},
   "source": [
    "* `adjacency_matrix` computes the adjacency matrix of a graph"
   ]
  },
  {
   "cell_type": "markdown",
   "metadata": {},
   "source": [
    "  * `from_numpy_matrix` constructs a graph from its adjacency matrix"
   ]
  },
  {
   "cell_type": "markdown",
   "metadata": {
    "slideshow": {
     "slide_type": "subslide"
    }
   },
   "source": [
    "##  Exercises"
   ]
  },
  {
   "cell_type": "markdown",
   "metadata": {},
   "source": [
    "1. Use the `complete_graph` function in `networkx` to construct a $5 \\times 5$ matrix\n",
    "   with entries $0$ on the diagonal and all other entries $1$."
   ]
  },
  {
   "cell_type": "code",
   "execution_count": null,
   "metadata": {},
   "outputs": [],
   "source": []
  },
  {
   "cell_type": "markdown",
   "metadata": {},
   "source": [
    "2. Construct an adjacency matrix and a graph from the matrix $C$ above. What does it mean for two vertices in this graph to be adjacent at the level of the TV shows?"
   ]
  },
  {
   "cell_type": "code",
   "execution_count": null,
   "metadata": {},
   "outputs": [],
   "source": []
  }
 ],
 "metadata": {
  "celltoolbar": "Slideshow",
  "kernelspec": {
   "display_name": "Python 3 (ipykernel)",
   "language": "python",
   "name": "python3"
  },
  "language_info": {
   "codemirror_mode": {
    "name": "ipython",
    "version": 3
   },
   "file_extension": ".py",
   "mimetype": "text/x-python",
   "name": "python",
   "nbconvert_exporter": "python",
   "pygments_lexer": "ipython3",
   "version": "3.9.7"
  }
 },
 "nbformat": 4,
 "nbformat_minor": 1
}
