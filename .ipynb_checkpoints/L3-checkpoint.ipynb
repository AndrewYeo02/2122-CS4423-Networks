{
 "cells": [
  {
   "cell_type": "markdown",
   "metadata": {
    "slideshow": {
     "slide_type": "slide"
    }
   },
   "source": [
    "### CS4423 - Networks\n",
    "Angela Carnevale<br/>\n",
    "School of Mathematical and Statistical Sciences<br/>\n",
    "NUI Galway\n",
    "\n",
    "#### 1. Graphs and Graph Theory\n",
    "\n",
    "\n",
    "# Lecture 3: Graphs, Relations and Matrices"
   ]
  },
  {
   "cell_type": "markdown",
   "metadata": {},
   "source": [
    "But before getting started.. \n",
    "\n",
    "# Brief summary and wrap-up: Graphs and `networkx`"
   ]
  },
  {
   "cell_type": "code",
   "execution_count": null,
   "metadata": {
    "slideshow": {
     "slide_type": "subslide"
    }
   },
   "outputs": [],
   "source": [
    "import networkx as nx\n",
    "opts = { \"with_labels\": True, \"node_color\": 'b' }"
   ]
  },
  {
   "cell_type": "markdown",
   "metadata": {
    "slideshow": {
     "slide_type": "subslide"
    }
   },
   "source": [
    "##  Simple Graphs in `networkx`\n",
    "* In `networkx`, we can construct a graph `Graph`\n",
    "constructor function\n",
    "* We can then plot the graph (possibly specifying options)"
   ]
  },
  {
   "cell_type": "code",
   "execution_count": null,
   "metadata": {
    "scrolled": true
   },
   "outputs": [],
   "source": [
    "G = nx.Graph([\"AB\", \"BC\", \"BD\", \"CD\"])\n",
    "nx.draw(G,**opts)"
   ]
  },
  {
   "cell_type": "markdown",
   "metadata": {
    "slideshow": {
     "slide_type": "subslide"
    }
   },
   "source": [
    "## Nodes, edges and degree\n",
    "\n",
    "* The `python` object `G` representing the graph $G$ has lots of useful attributes.  Firstly, it has `nodes` and `edges`.\n",
    "\n",
    "* A **loop** over a graph `G` will effectively loop over `G`'s nodes.\n",
    "\n",
    "* We can count the nodes by calling `G.number_of_nodes()` or `G.order()`\n",
    "\n",
    "* Similarly, we can count the edges by calling `G.number_of_edges()` or `G.size()`\n",
    "\n",
    "* Each node has a list of **neighbors**, the nodes it is\n",
    "  directly connected to by an edge of the graph\n",
    "\n",
    "* The number of neighbors of a node $x$ is its **degree**"
   ]
  },
  {
   "cell_type": "markdown",
   "metadata": {
    "slideshow": {
     "slide_type": "subslide"
    }
   },
   "source": [
    "## Modifying a graph\n",
    "* A graph `G` can be modified by adding nodes (one or many at once).\n",
    "* Same can be done by adding edges.\n",
    "\n",
    "* Similarly, there are commands for removing nodes or edges from a graph `G`\n",
    "\n",
    "* Removing a node will silently delete all edges **incident** to it\n",
    "\n",
    "* `G.add_node(x)`, `G.add_nodes_from(list)`, `G.add_edge(edge)` are some of the commands that we can use to modify a graph in `networkx`"
   ]
  },
  {
   "cell_type": "markdown",
   "metadata": {
    "slideshow": {
     "slide_type": "slide"
    }
   },
   "source": [
    "## Examples"
   ]
  },
  {
   "cell_type": "markdown",
   "metadata": {
    "slideshow": {
     "slide_type": "subslide"
    }
   },
   "source": [
    "### Complete Graphs\n",
    "\n",
    "The [**complete graph**](https://en.wikipedia.org/wiki/Complete_graph)\n",
    "on a vertex set $X$ is the graph with edge set all of $\\binom{X}{2}$.\n",
    "* We have seen how to construct a complete graph by producing a list of edges and passing it to the graph constructor function\n",
    "\n",
    "* `networkx` has its own implementation of complete graphs."
   ]
  },
  {
   "cell_type": "code",
   "execution_count": null,
   "metadata": {},
   "outputs": [],
   "source": [
    "nx.draw(nx.complete_graph(\"NETWORKS\"), **opts)"
   ]
  },
  {
   "cell_type": "code",
   "execution_count": null,
   "metadata": {},
   "outputs": [],
   "source": []
  },
  {
   "cell_type": "markdown",
   "metadata": {
    "slideshow": {
     "slide_type": "subslide"
    }
   },
   "source": [
    "### Petersen Graph\n",
    "\n",
    "The [Petersen Graph](https://en.wikipedia.org/wiki/Petersen_graph)\n",
    "is a graph on $10$ vertices with $15$ edges.\n",
    "\n",
    "It can be constructed \n",
    "as the complement of the [line graph](https://en.wikipedia.org/wiki/Line_graph) of the complete graph $K_5$,\n",
    "i.e.,\n",
    "as the graph with vertex set\n",
    "$$X = \\binom{\\{0,1,2,3,4\\}}{2}$$ (the edge set of $K_5$) and\n",
    "with an edge between $x, y \\in X$ whenever $x \\cap y = \\emptyset$.\n",
    "\n",
    "(**Note.** You can find detailed instructions on how to construct Petersen Graph in the notebook of Lecture 2.)"
   ]
  },
  {
   "cell_type": "markdown",
   "metadata": {
    "slideshow": {
     "slide_type": "slide"
    }
   },
   "source": [
    "##  Code Corner"
   ]
  },
  {
   "cell_type": "markdown",
   "metadata": {
    "slideshow": {
     "slide_type": "subslide"
    }
   },
   "source": [
    "### `python`\n",
    "\n",
    "* **list unpacking** operator `*e`: if `e` is a list, an\n",
    "argument `*e` passes the elements of `e` as individual arguments\n",
    "to a function call.\n",
    "\n",
    "* **dictionary unpacking** operator `**opts`: `python` function calls take **positional** arguments and **keyword** arguments. The keyword arguments can be collected in a dictionary `opts` (with the keywords as keys).  This dictionary can then be passed into the function call in its \"unwrapped\" form `**opts`."
   ]
  },
  {
   "cell_type": "markdown",
   "metadata": {
    "slideshow": {
     "slide_type": "subslide"
    }
   },
   "source": [
    "* **set intersection**: if `a` and `b` are sets then `a & b` represents the intersection of `a` and `b`.  In a boolean context, an empty set counts as `False`, and a non-empty set as `True`."
   ]
  },
  {
   "cell_type": "code",
   "execution_count": null,
   "metadata": {},
   "outputs": [],
   "source": [
    "a = set([1,2,3])\n",
    "b = set([3,4,5])\n",
    "a & b"
   ]
  },
  {
   "cell_type": "code",
   "execution_count": null,
   "metadata": {},
   "outputs": [],
   "source": [
    "bool({}), bool({3})"
   ]
  },
  {
   "cell_type": "markdown",
   "metadata": {
    "slideshow": {
     "slide_type": "subslide"
    }
   },
   "source": [
    "* `list` [[doc]](https://docs.python.org/3/library/stdtypes.html#list) turns its argument into a `python` list (if possible)."
   ]
  },
  {
   "cell_type": "code",
   "execution_count": null,
   "metadata": {},
   "outputs": [],
   "source": [
    "list(\"networks\")"
   ]
  },
  {
   "cell_type": "markdown",
   "metadata": {},
   "source": [
    "* **list comprehension** [[doc]](https://docs.python.org/3/tutorial/datastructures.html#list-comprehensions) allows the construction of new list from old ones\n",
    "without explicit `for` loops (or `if` statements)."
   ]
  },
  {
   "cell_type": "code",
   "execution_count": null,
   "metadata": {},
   "outputs": [],
   "source": [
    "[(x, y) for x in range(4) for y in range(4) if x < y]"
   ]
  },
  {
   "cell_type": "markdown",
   "metadata": {
    "slideshow": {
     "slide_type": "slide"
    }
   },
   "source": [
    "### `networkx`"
   ]
  },
  {
   "cell_type": "markdown",
   "metadata": {
    "slideshow": {
     "slide_type": "-"
    }
   },
   "source": [
    "* the `read_adjlist` command [[doc]](https://networkx.org/documentation/stable/reference/readwrite/generated/networkx.readwrite.adjlist.read_adjlist.html#networkx.readwrite.adjlist.read_adjlist) constructs a graph from a text file in `adj` format."
   ]
  },
  {
   "cell_type": "markdown",
   "metadata": {
    "slideshow": {
     "slide_type": "-"
    }
   },
   "source": [
    "* `Graph` constructor and applicable methods [[doc]](https://networkx.org/documentation/stable/reference/classes/graph.html): if `G` is  `Graph` object then\n",
    "  * `G.nodes` returns the nodes of a graph `G` (as an iterator),\n",
    "  * `G.edges` returns the edges of a graph `G` (as an iterator),\n",
    "  * ..."
   ]
  },
  {
   "cell_type": "markdown",
   "metadata": {
    "slideshow": {
     "slide_type": "-"
    }
   },
   "source": [
    "* `complete_graph` [[doc]](https://networkx.org/documentation/stable//reference/generated/networkx.generators.classic.complete_graph.html)"
   ]
  },
  {
   "cell_type": "markdown",
   "metadata": {
    "slideshow": {
     "slide_type": "subslide"
    }
   },
   "source": [
    "### `itertools`"
   ]
  },
  {
   "cell_type": "markdown",
   "metadata": {
    "slideshow": {
     "slide_type": "-"
    }
   },
   "source": [
    "* `combinations` [[doc]](https://docs.python.org/3/library/itertools.html#itertools.combinations) returns the $k$-element combinations of a given list (as an iterator)."
   ]
  },
  {
   "cell_type": "code",
   "execution_count": null,
   "metadata": {
    "slideshow": {
     "slide_type": "-"
    }
   },
   "outputs": [],
   "source": [
    "print([\"\".join(c) for c in combinations(\"networks\", 2)])"
   ]
  },
  {
   "cell_type": "markdown",
   "metadata": {
    "slideshow": {
     "slide_type": "slide"
    }
   },
   "source": [
    "##  Exercises"
   ]
  },
  {
   "cell_type": "markdown",
   "metadata": {
    "slideshow": {
     "slide_type": "subslide"
    }
   },
   "source": [
    "1. Using list comprehension (and the `python` mod operator `%`)\n",
    "   construct a multiplication table for integers mod $7$, i.e.,\n",
    "   a $7 \\times 7$ array with entry `a * b % 7` in row `a` and\n",
    "   column `b`.\n",
    "2. Find a way to use list comprehension for \n",
    "   listing all $2$-element subsets of $\\{0, 1, 2, 3, 4\\}$\n",
    "   (as above) without using an `if`-clause.\n",
    "1. Write a `python` function that constructs and returns\n",
    "   a [cycle graph](https://en.wikipedia.org/wiki/Cycle_graph)\n",
    "   on $n$ vertices.\n",
    "   \n",
    "2. In the internet graph `H` from last week, add the\n",
    "   degree of each node as an attribute to the node."
   ]
  },
  {
   "cell_type": "markdown",
   "metadata": {
    "slideshow": {
     "slide_type": "slide"
    }
   },
   "source": [
    "### CS4423 - Networks\n",
    "Angela Carnevale<br/>\n",
    "School of Mathematical and Statistical Sciences<br/>\n",
    "NUI Galway\n",
    "\n",
    "#### 1. Graphs and Graph Theory\n",
    "\n",
    "\n",
    "# Lecture 3: Graphs, Relations and Matrices"
   ]
  },
  {
   "cell_type": "markdown",
   "metadata": {
    "slideshow": {
     "slide_type": "slide"
    }
   },
   "source": [
    " Together with `networkx`, we import `numpy` for matrix operations."
   ]
  },
  {
   "cell_type": "code",
   "execution_count": null,
   "metadata": {
    "slideshow": {
     "slide_type": "-"
    }
   },
   "outputs": [],
   "source": [
    "import networkx as nx\n",
    "import numpy as np"
   ]
  },
  {
   "cell_type": "markdown",
   "metadata": {},
   "source": [
    "Today we're going to relate graphs to two other [areas of mathematics](https://en.wikipedia.org/wiki/Areas_of_mathematics): \n",
    "* **Linear Algebra** and its language of matrices and **matrix multiplication**\n",
    "* **Set Theory** and the language of **relations**"
   ]
  },
  {
   "cell_type": "markdown",
   "metadata": {
    "slideshow": {
     "slide_type": "slide"
    }
   },
   "source": [
    "As before, let's construct a small graph `G`."
   ]
  },
  {
   "cell_type": "code",
   "execution_count": null,
   "metadata": {
    "slideshow": {
     "slide_type": "-"
    }
   },
   "outputs": [],
   "source": [
    "G = nx.Graph([\"ab\", \"bc\", \"bd\", \"cd\", \"de\"])\n",
    "opts = { \"with_labels\": True, \"node_color\": 'y' }\n",
    "nx.draw(G, **opts)"
   ]
  },
  {
   "cell_type": "markdown",
   "metadata": {
    "slideshow": {
     "slide_type": "slide"
    }
   },
   "source": [
    "##  Adjacency Matrix"
   ]
  },
  {
   "cell_type": "markdown",
   "metadata": {
    "slideshow": {
     "slide_type": "subslide"
    }
   },
   "source": [
    "A useful algebraic way to represent a graph is given by its __adjacency matrix__.  \n",
    "\n",
    "This is a square matrix $A=(a_{ij})$, with rows and columns corresponding to the vertices of the graph, and entries\n",
    "\n",
    "$$a_{ij}=\\begin{cases} 1 & \\mbox{if $i$ and $j$ are joined by an edge},\\\\\n",
    "0 &\\mbox{otherwise}.\\end{cases} $$"
   ]
  },
  {
   "cell_type": "markdown",
   "metadata": {
    "slideshow": {
     "slide_type": "subslide"
    }
   },
   "source": [
    "The edge $ab$ in the example above gives an entry $1$\n",
    "in row 1 (corresponding to vertex $a$) and column 2 (corresponding to\n",
    "vertex $b$.  And another entry $1$ in row 2 column 1.  The full adjacency matrix\n",
    "of the above graph is as follows.\n",
    "\n",
    "$$A = \\left[\n",
    "\\begin{array}{cccc}\n",
    "0&1&0&0&0\\\\\n",
    "1&0&1&1&0\\\\\n",
    "0&1&0&1&0\\\\\n",
    "0&1&1&0&1\\\\\n",
    "0&0&0&1&0\n",
    "\\end{array}\n",
    "\\right]$$\n",
    "\n",
    "(Recall the graph's edges are $ab$, $bc$, $bd$, $cd$, $de$.)"
   ]
  },
  {
   "cell_type": "markdown",
   "metadata": {
    "slideshow": {
     "slide_type": "subslide"
    }
   },
   "source": [
    "In `networkx`, the adjacency matrix is computed with the `adjacency_matrix` command."
   ]
  },
  {
   "cell_type": "code",
   "execution_count": null,
   "metadata": {
    "scrolled": true,
    "slideshow": {
     "slide_type": "-"
    }
   },
   "outputs": [],
   "source": [
    "A = nx.adjacency_matrix(G)\n",
    "print(A)"
   ]
  },
  {
   "cell_type": "markdown",
   "metadata": {
    "slideshow": {
     "slide_type": "subslide"
    }
   },
   "source": [
    "This matrix is internally represented as a `scipy` sparse matrix (as in general many of its\n",
    "entries are $0$) and needs to be converted (e.g. by the `toarray` command) in order\n",
    "to be displayed as a matrix as usual."
   ]
  },
  {
   "cell_type": "markdown",
   "metadata": {},
   "source": [
    "(More precisely, `toarray` converts an adjacency matrix to a `numpy` `ndarray`.  Here, however, `*` doesn't mean matrix multiplication ...)"
   ]
  },
  {
   "cell_type": "code",
   "execution_count": null,
   "metadata": {
    "slideshow": {
     "slide_type": "subslide"
    }
   },
   "outputs": [],
   "source": [
    "type(A)"
   ]
  },
  {
   "cell_type": "code",
   "execution_count": null,
   "metadata": {},
   "outputs": [],
   "source": [
    "type(A.toarray())"
   ]
  },
  {
   "cell_type": "code",
   "execution_count": null,
   "metadata": {},
   "outputs": [],
   "source": [
    "print(A.toarray())"
   ]
  },
  {
   "cell_type": "markdown",
   "metadata": {
    "slideshow": {
     "slide_type": "subslide"
    }
   },
   "source": [
    "Note that the matrix $A = (a_{ij})$, like every adjacency matrix of a simple\n",
    "graph, is **symmetric** about the diagonal: $a_{ij} = a_{ji}$ for all\n",
    "$i, j$.  Also, all diagonal entries are $0$."
   ]
  },
  {
   "cell_type": "markdown",
   "metadata": {},
   "source": [
    "Going the other way, a graph can be constructed from an adjancency matrix (at the cost of losing the node labels):"
   ]
  },
  {
   "cell_type": "code",
   "execution_count": null,
   "metadata": {
    "slideshow": {
     "slide_type": "-"
    }
   },
   "outputs": [],
   "source": [
    "H = nx.from_numpy_matrix(A.toarray())\n",
    "nx.draw(H, **opts)"
   ]
  },
  {
   "cell_type": "markdown",
   "metadata": {
    "slideshow": {
     "slide_type": "subslide"
    }
   },
   "source": [
    "Some examples of matrix multiplication with `scipy` sparse matrices ... we'll get back to that later."
   ]
  },
  {
   "cell_type": "code",
   "execution_count": null,
   "metadata": {},
   "outputs": [],
   "source": [
    "print((A**0).toarray())"
   ]
  },
  {
   "cell_type": "code",
   "execution_count": null,
   "metadata": {},
   "outputs": [],
   "source": [
    "print((A*A).toarray())"
   ]
  },
  {
   "cell_type": "markdown",
   "metadata": {
    "slideshow": {
     "slide_type": "slide"
    }
   },
   "source": [
    "## Degree"
   ]
  },
  {
   "cell_type": "markdown",
   "metadata": {
    "slideshow": {
     "slide_type": "subslide"
    }
   },
   "source": [
    "As we've seen, the **degree** of a vertex $x$ in a simple graph is the number of\n",
    "vertices it is adjacent to in the graph (its number of **neighbours**, or **friends**).\n",
    "\n",
    "The degree can serve as a (simple) measure of the importance of a node\n",
    "in a network.  "
   ]
  },
  {
   "cell_type": "markdown",
   "metadata": {
    "slideshow": {
     "slide_type": "subslide"
    }
   },
   "source": [
    "**Fact.** The **average degree** of the nodes in a network depends\n",
    "(only) on the number $n$ of nodes, and the number $m$ of edges in the\n",
    "network."
   ]
  },
  {
   "cell_type": "markdown",
   "metadata": {},
   "source": [
    "This boils down to the following: \n",
    "\n",
    "* The row (or column) sum of an adjacency matrix is the number of edges incident to the node represented by that row (or column). \n",
    "\n",
    "* Summing over all rows (or columns) will effectively count all the edges twice. Thus, the **average degree** is $c=\\frac{2m}{n}$."
   ]
  },
  {
   "cell_type": "markdown",
   "metadata": {
    "slideshow": {
     "slide_type": "subslide"
    }
   },
   "source": [
    "As a consequence, any simple graph $G$ has an even number of nodes of odd degree.\n",
    "This fact is known as [Euler's Handshake Lemma](https://en.wikipedia.org/wiki/Handshaking_lemma)."
   ]
  },
  {
   "cell_type": "markdown",
   "metadata": {
    "slideshow": {
     "slide_type": "subslide"
    }
   },
   "source": [
    "In our graph $G$, the column sums of the adjacency matrix `A` are:"
   ]
  },
  {
   "cell_type": "code",
   "execution_count": null,
   "metadata": {},
   "outputs": [],
   "source": [
    "A.toarray().sum(0)"
   ]
  },
  {
   "cell_type": "markdown",
   "metadata": {},
   "source": [
    "and the row sums are:"
   ]
  },
  {
   "cell_type": "code",
   "execution_count": null,
   "metadata": {},
   "outputs": [],
   "source": [
    "A.toarray().sum(1)"
   ]
  },
  {
   "cell_type": "markdown",
   "metadata": {
    "slideshow": {
     "slide_type": "subslide"
    }
   },
   "source": [
    "Both agree with the degrees of the nodes of $G$:"
   ]
  },
  {
   "cell_type": "code",
   "execution_count": null,
   "metadata": {},
   "outputs": [],
   "source": [
    "G.degree()"
   ]
  },
  {
   "cell_type": "markdown",
   "metadata": {
    "slideshow": {
     "slide_type": "subslide"
    }
   },
   "source": [
    "The sum of the degrees is $10$, the average degree is $\\frac{2m}{n} = 2$,\n",
    "and there are $4$ nodes of odd degree."
   ]
  },
  {
   "cell_type": "code",
   "execution_count": null,
   "metadata": {},
   "outputs": [],
   "source": [
    "A.sum()"
   ]
  },
  {
   "cell_type": "markdown",
   "metadata": {
    "slideshow": {
     "slide_type": "slide"
    }
   },
   "source": [
    "## Graphs are Relations"
   ]
  },
  {
   "cell_type": "markdown",
   "metadata": {
    "slideshow": {
     "slide_type": "subslide"
    }
   },
   "source": [
    "Recall the following definitions.\n",
    "\n",
    "**Definition.**  A **relation** from a set $X$ to a set $Y$ is (nothing but) a subset\n",
    "$R$ of the Cartesian product $X \\times Y = \\{(x, y) :  x \\in X,\\, y \\in Y \\}$.\n",
    "    We say that $x \\in X$ is **$R$-related** to $y \\in Y$ whenever $(x, y) \\in R$\n",
    "and then write $x R y$.\n"
   ]
  },
  {
   "cell_type": "markdown",
   "metadata": {
    "slideshow": {
     "slide_type": "subslide"
    }
   },
   "source": [
    "* The **adjacency matrix** of a relation $R \\subseteq X \\times Y$\n",
    "is the matrix with one row for each element $x \\in X$ and one column for each\n",
    "element $y \\in Y$, and it has an entry $1$ in row $x$ and column $y$\n",
    "if $x R y$, and entries $0$ otherwise."
   ]
  },
  {
   "cell_type": "markdown",
   "metadata": {
    "slideshow": {
     "slide_type": "subslide"
    }
   },
   "source": [
    "* In many cases, $Y = X$, i.e., $R$ is a **homogeneous** relation.\n",
    "In this case, we say that $R$ is a relation **on** $X$.  Such a relation\n",
    "can have one or more of the following properties.\n",
    "\n",
    "    * (R) $R$ is **reflexive** if $xRx$ for all $x \\in X$;\n",
    "    \n",
    "    * (S) $R$ is **symmetric** if $xRy$ implies $yRx$ for all $x, y \\in X$;\n",
    "    \n",
    "    -(T) $R$ is **transitive** if $xRy$ and $yRz$ imply that $xRz$ for all $x, y, z \\in X$;\n",
    "   \n",
    "    -(I) $R$ is **irreflexive** if **not** $xRx$ for all $x \\in X$;\n",
    "    \n",
    "    -(A) $R$ is **antisymmetric** if $xRy$ and $yRx$ imply that\n",
    "        $x = y$ for all $x, y \\in X$.\n",
    "   "
   ]
  },
  {
   "cell_type": "markdown",
   "metadata": {
    "slideshow": {
     "slide_type": "subslide"
    }
   },
   "source": [
    "* In view of these notions, we can now describe simple graphs and some\n",
    "of their properties\n",
    "as follows: \n",
    "\n",
    "A **simple** graph with node set $X$ is a **symmetric**, **irreflexive** relation on $X$. \n",
    "\n",
    "The relation on the nodes that of *being adjacent*.  \n"
   ]
  },
  {
   "cell_type": "markdown",
   "metadata": {
    "slideshow": {
     "slide_type": "subslide"
    }
   },
   "source": [
    "## Composition and Adjacency Matrices.\n",
    "\n",
    "* Relations can be composed, like functions.  \n",
    "\n",
    "* If $R$ is a relation\n",
    "from a set $X$ to a set $Y$, and if $S$ is a relation from $Y$ to a set $Z$,\n",
    "then the __composite relation__ $R \\circ S$ is the relation\n",
    "from $X$ to $Z$, defined by $x (R \\circ S) z$ if there is a\n",
    "an element $y \\in Y$ such that $x R y$ and $y S z$."
   ]
  },
  {
   "cell_type": "markdown",
   "metadata": {
    "slideshow": {
     "slide_type": "subslide"
    }
   },
   "source": [
    "* The adjacency matrix of the composite relation $R \\circ S$\n",
    "is essentially the (matrix) product of the adjacency matrices\n",
    "of the individual relations $R$ and $S$.\n",
    "\n",
    "* If $A = (a_{ij})$ is the adjacency matrix of $R$, and $B = (b_{jk})$ the adjacency matrix of $S$,\n",
    "then the $i,k$-entry of the product $AB$ is\n",
    "$$(AB)_{ik} = \\sum_{j} a_{ij} b_{jk},$$\n",
    "which is exactly the __number__ of elements $y \\in Y$ such that $x_i R\n",
    "y$ and $y S z_k$.  \n",
    "\n",
    "* All it needs for $x_i$ to be $(R \\circ S)$-related\n",
    "to $z_k$ is this number to be at least $1$.  \n",
    "\n",
    "* Hence, replacing all\n",
    "nonzero entries in the product matrix $AB$ with $1$ yields the\n",
    "adjacency matrix of the composite $R \\circ S$."
   ]
  },
  {
   "cell_type": "markdown",
   "metadata": {
    "slideshow": {
     "slide_type": "subslide"
    }
   },
   "source": [
    "* In particular, since a graph $G$ is a symmetric irreflexive\n",
    "  relation its set of noder, We can form the matrix product of the adjacency matrix $A$ of $G$ with itself.\n",
    "\n",
    "* What is the **meaning** of the entries of that product?"
   ]
  },
  {
   "cell_type": "markdown",
   "metadata": {
    "slideshow": {
     "slide_type": "subslide"
    }
   },
   "source": [
    "For example:"
   ]
  },
  {
   "cell_type": "code",
   "execution_count": null,
   "metadata": {},
   "outputs": [],
   "source": [
    "G = nx.Graph([\"ab\", \"bc\", \"bd\", \"cd\", \"ce\", \"de\"])\n",
    "nx.draw(G, **opts)"
   ]
  },
  {
   "cell_type": "code",
   "execution_count": null,
   "metadata": {
    "slideshow": {
     "slide_type": "subslide"
    }
   },
   "outputs": [],
   "source": [
    "A = nx.adjacency_matrix(G).toarray()\n",
    "AA = A @ A\n",
    "print(AA)"
   ]
  },
  {
   "cell_type": "markdown",
   "metadata": {
    "slideshow": {
     "slide_type": "subslide"
    }
   },
   "source": [
    "In `numpy`, one can use **boolean indexing** and other convenient methods to convert $A^2$\n",
    "into an adjacency matrix of a graph."
   ]
  },
  {
   "cell_type": "code",
   "execution_count": null,
   "metadata": {},
   "outputs": [],
   "source": [
    "AA[AA>1] = 1\n",
    "print(AA)"
   ]
  },
  {
   "cell_type": "code",
   "execution_count": null,
   "metadata": {
    "slideshow": {
     "slide_type": "subslide"
    }
   },
   "outputs": [],
   "source": [
    "np.fill_diagonal(AA, 0)\n",
    "print(AA)"
   ]
  },
  {
   "cell_type": "code",
   "execution_count": null,
   "metadata": {
    "slideshow": {
     "slide_type": "subslide"
    }
   },
   "outputs": [],
   "source": [
    "GG = nx.from_numpy_matrix(AA)\n",
    "nx.draw(GG, **opts)"
   ]
  },
  {
   "cell_type": "markdown",
   "metadata": {
    "slideshow": {
     "slide_type": "subslide"
    }
   },
   "source": [
    "* Oops - The node names got lost.  They can be revived by relabelling the nodes in `GG`."
   ]
  },
  {
   "cell_type": "code",
   "execution_count": null,
   "metadata": {},
   "outputs": [],
   "source": [
    "nx.relabel_nodes(GG, { i : \"abcde\"[i] for i in range(5)}, copy=False)\n",
    "nx.draw(GG, **opts)"
   ]
  },
  {
   "cell_type": "markdown",
   "metadata": {
    "slideshow": {
     "slide_type": "subslide"
    }
   },
   "source": [
    "If you're interested in relations, the article [Counting Transitive Relations] (in the *Journal of\n",
    "Integer Sequences*) contains a systematic account on the various types\n",
    "of relations that can be distinguished by these 5 properties, and a\n",
    "discussion of how to count them (up to equivalence) in case the\n",
    "underlying set $X$ is finite.\n",
    "\n",
    "[counting transitive relations]: https://cs.uwaterloo.ca/journals/JIS/VOL7/Pfeiffer/pfeiffer6.html"
   ]
  },
  {
   "cell_type": "markdown",
   "metadata": {
    "slideshow": {
     "slide_type": "slide"
    }
   },
   "source": [
    "##  Code Corner"
   ]
  },
  {
   "cell_type": "markdown",
   "metadata": {
    "slideshow": {
     "slide_type": "subslide"
    }
   },
   "source": [
    "### `Numpy`"
   ]
  },
  {
   "cell_type": "markdown",
   "metadata": {
    "slideshow": {
     "slide_type": "-"
    }
   },
   "source": [
    "* `sum`:  form the sum of matrix entries, either all or along a specified axis"
   ]
  },
  {
   "cell_type": "markdown",
   "metadata": {},
   "source": [
    "* `toarray`:  convert a sparse matrix into a proper array"
   ]
  },
  {
   "cell_type": "markdown",
   "metadata": {},
   "source": [
    "* `fill_diagonal`: fill the diagonal entries of an array with a given value."
   ]
  },
  {
   "cell_type": "markdown",
   "metadata": {
    "slideshow": {
     "slide_type": "subslide"
    }
   },
   "source": [
    "### `networkx`"
   ]
  },
  {
   "cell_type": "markdown",
   "metadata": {},
   "source": [
    "* `adjacency_matrix` computes the adjacency matrix of a graph"
   ]
  },
  {
   "cell_type": "markdown",
   "metadata": {},
   "source": [
    "  * `from_numpy_matrix` constructs a graph from its adjacency matrix"
   ]
  },
  {
   "cell_type": "markdown",
   "metadata": {
    "slideshow": {
     "slide_type": "subslide"
    }
   },
   "source": [
    "##  Exercises"
   ]
  },
  {
   "cell_type": "markdown",
   "metadata": {},
   "source": [
    "1. Use the `complete_graph` function in `networkx` to construct a $5 \\times 5$ matrix\n",
    "   with entries $0$ on the diagonal and all other entries $1$."
   ]
  },
  {
   "cell_type": "code",
   "execution_count": null,
   "metadata": {},
   "outputs": [],
   "source": []
  }
 ],
 "metadata": {
  "celltoolbar": "Slideshow",
  "kernelspec": {
   "display_name": "Python 3 (ipykernel)",
   "language": "python",
   "name": "python3"
  },
  "language_info": {
   "codemirror_mode": {
    "name": "ipython",
    "version": 3
   },
   "file_extension": ".py",
   "mimetype": "text/x-python",
   "name": "python",
   "nbconvert_exporter": "python",
   "pygments_lexer": "ipython3",
   "version": "3.9.7"
  }
 },
 "nbformat": 4,
 "nbformat_minor": 1
}
