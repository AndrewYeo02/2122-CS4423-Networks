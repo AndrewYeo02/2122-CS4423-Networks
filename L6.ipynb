{
 "cells": [
  {
   "cell_type": "markdown",
   "metadata": {
    "slideshow": {
     "slide_type": "slide"
    }
   },
   "source": [
    "### CS4423 - Networks\n",
    "Angela Carnevale <br>\n",
    "School of Mathematical and Statistical Sciences <br>\n",
    "NUI Galway\n",
    "\n"
   ]
  },
  {
   "cell_type": "markdown",
   "metadata": {
    "slideshow": {
     "slide_type": "subslide"
    }
   },
   "source": [
    "#### 2. Tree and Graph Traversal\n",
    "\n",
    "# Week 4, lecture 1: Paths, Trees and Algorithms"
   ]
  },
  {
   "cell_type": "markdown",
   "metadata": {
    "slideshow": {
     "slide_type": "slide"
    }
   },
   "source": [
    "Sequences of interconnected edges in a  graph are called **paths**,\n",
    "leading to notions of **connectivity** and **distance**.\n",
    "A **tree** is a particularly useful kind of connected graph,\n",
    "that is frequently used as a data structure in Computer Science.\n",
    "\n",
    "We will study **random trees** and some classical algorithms for tree traversal.\n",
    "A network has the structure of a tree when it is of a hierarchical nature,\n",
    "like an [ancestry chart](https://en.wikipedia.org/wiki/Pedigree_chart)\n",
    "or a **river network**."
   ]
  },
  {
   "cell_type": "markdown",
   "metadata": {
    "slideshow": {
     "slide_type": "subslide"
    }
   },
   "source": [
    "![A River Network](images/rivers.jpg)\n",
    "\n",
    "[Image from [EPA Maps](https://gis.epa.ie/EPAMaps/)]"
   ]
  },
  {
   "cell_type": "code",
   "execution_count": null,
   "metadata": {
    "slideshow": {
     "slide_type": "subslide"
    }
   },
   "outputs": [],
   "source": [
    "import networkx as nx\n",
    "import numpy as np"
   ]
  },
  {
   "cell_type": "markdown",
   "metadata": {
    "slideshow": {
     "slide_type": "slide"
    }
   },
   "source": [
    "## Paths\n",
    "\n",
    "The fundamental notion of **connectivity** in a network is closely\n",
    "related to the notion of **paths** in a graph."
   ]
  },
  {
   "cell_type": "markdown",
   "metadata": {
    "slideshow": {
     "slide_type": "fragment"
    }
   },
   "source": [
    "**Definitions.** \n",
    "    \n",
    "* A **path** in a graph $G = (X, E)$ is a sequence of nodes, where any pair of consecutive nodes in the sequence is (linked by) an edge in $E$.\n",
    "\n",
    "* Such a path can have repeated nodes. If it doesn't, the path is called a **simple path**."
   ]
  },
  {
   "cell_type": "markdown",
   "metadata": {
    "slideshow": {
     "slide_type": "subslide"
    }
   },
   "source": [
    "**Definitions.** \n",
    "    \n",
    "* The **length** of a path is the number of edges it involves (that is the number of nodes minus $1$).\n",
    "    \n",
    "* At each vertex $x \\in X$, there is a unique path of length $0$, the **empty path**, consisting of vertex $x$ only.\n",
    "\n",
    "* A **cycle** is a path of length at least $3$ that is a simple path, except for the first and the last node being the same."
   ]
  },
  {
   "cell_type": "code",
   "execution_count": null,
   "metadata": {
    "slideshow": {
     "slide_type": "subslide"
    }
   },
   "outputs": [],
   "source": [
    "nodes = 'ABCDEFGHIJKLM'\n",
    "edges = [\n",
    "    'AB', 'CE', 'FG', 'FH', 'GI', 'GJ', 'HJ', 'HL', 'HM', \n",
    "    'IK', 'JK', 'KL', 'LM'\n",
    "]\n",
    "G = nx.Graph()\n",
    "G.add_nodes_from(nodes)\n",
    "G.add_edges_from(edges)"
   ]
  },
  {
   "cell_type": "code",
   "execution_count": null,
   "metadata": {
    "slideshow": {
     "slide_type": "subslide"
    }
   },
   "outputs": [],
   "source": [
    "opts = { \"with_labels\": True, \"node_color\": 'y'}\n",
    "nx.draw(G, **opts)"
   ]
  },
  {
   "cell_type": "markdown",
   "metadata": {
    "slideshow": {
     "slide_type": "fragment"
    }
   },
   "source": [
    "* $(F, G, I)$ is a path in the graph above, and $(H, J, K, L, H)$ is a cycle."
   ]
  },
  {
   "cell_type": "markdown",
   "metadata": {
    "slideshow": {
     "slide_type": "subslide"
    }
   },
   "source": [
    "* A cycle in a simple graph provides, for any two nodes on that\n",
    "cycle, (at least) two different paths from one to the other.\n",
    "\n",
    "* This can be very handy to provide alternative routes for connectivity in case one of the edges should fail (e.g. in transportation networks). \n",
    "\n",
    "* For instance, each edge (and node) of the 1970 Internet graph belongs to\n",
    "a cycle. \n",
    "\n",
    "* (In a *directed* network, paths are directed, too.\n",
    "A path from a vertex $x$ to a vertex $y$ is\n",
    "a sequence of vertices $x = x_0, x_1, \\dots, x_k = y$\n",
    "such that, for any $i = 1, \\dots, k$, there is\n",
    "an edge from $x_{i-1}$ to $x_i$ in the graph.)\n",
    "\n"
   ]
  },
  {
   "cell_type": "markdown",
   "metadata": {
    "slideshow": {
     "slide_type": "slide"
    }
   },
   "source": [
    "## Connected Components\n",
    "\n",
    "Communication and transportation networks tend to be connected, as\n",
    "this is their main purpose: to connect."
   ]
  },
  {
   "cell_type": "markdown",
   "metadata": {
    "slideshow": {
     "slide_type": "fragment"
    }
   },
   "source": [
    "**Definition.**\n",
    "    <ul>\n",
    "        <li>A simple graph is <b>connected</b> if, for\n",
    "every pair of nodes, there is a path between them.\n",
    "        </li>\n",
    "        <li>\n",
    "If a graph is not connected, it naturally breaks into pieces,\n",
    "its <b>connected components</b>.\n",
    "       "
   ]
  },
  {
   "cell_type": "code",
   "execution_count": null,
   "metadata": {
    "slideshow": {
     "slide_type": "subslide"
    }
   },
   "outputs": [],
   "source": [
    "nx.draw(G, **opts)"
   ]
  },
  {
   "cell_type": "markdown",
   "metadata": {
    "slideshow": {
     "slide_type": "fragment"
    }
   },
   "source": [
    "* The connected components of the graph above are the\n",
    "node sets $\\{A, B\\}$, $\\{C, E\\}$, $\\{D\\}$, and $\\{F,G,H,I,J,K,L,M\\}$.\n",
    "* Note that a component can consist of a single node only."
   ]
  },
  {
   "cell_type": "code",
   "execution_count": null,
   "metadata": {
    "slideshow": {
     "slide_type": "subslide"
    }
   },
   "outputs": [],
   "source": [
    "list(nx.connected_components(G))"
   ]
  },
  {
   "cell_type": "markdown",
   "metadata": {
    "slideshow": {
     "slide_type": "subslide"
    }
   },
   "source": [
    "**Note.** \n",
    "The relation 'there is a **path** from $x$ to $y$ on the node set $X$ of a\n",
    "graph is the **transitive closure** of the graph relation 'there is an\n",
    "**edge** between $x$ and $y$'.  It is \n",
    "\n",
    "* **reflexive** (as each node $x$ is\n",
    "connected to itself by the zero length path starting and ending at\n",
    "$x$), \n",
    "\n",
    "* **symmetric** (as a path from $x$ to $y$ can be used backwards as\n",
    "a path from $y$ to $x$), \n",
    "\n",
    "* and **transitive** (as a path from $x$ to $y$ and\n",
    "a path from $y$ to $z$ together make up a path from $x$ to $z$), \n",
    "\n",
    "hence\n",
    "an **equivalence relation**.\n",
    "The connected components of the graph are\n",
    "the parts (equivalence classes) of the corresponding **partition** of $X$."
   ]
  },
  {
   "cell_type": "markdown",
   "metadata": {
    "slideshow": {
     "slide_type": "slide"
    }
   },
   "source": [
    "##  Trees"
   ]
  },
  {
   "cell_type": "markdown",
   "metadata": {
    "slideshow": {
     "slide_type": "fragment"
    }
   },
   "source": [
    "* A graph is called **acyclic** if it does not contain any cycles.\n",
    "\n",
    "*    A <b>tree</b> is a (simple) graph that is <b>connected</b> and <b>acyclic</b>.\n",
    "\n",
    "In other words, between any two vertices in a tree there is **exactly one simple path**."
   ]
  },
  {
   "cell_type": "markdown",
   "metadata": {
    "slideshow": {
     "slide_type": "subslide"
    }
   },
   "source": [
    "Trees can be characterized in many different ways.\n",
    "\n",
    "\n",
    "\n",
    "**Theorem.**  Let $G = (X, E)$ be a (simple) graph of order $n = |X|$\n",
    "and size $m = |E|$.\n",
    "Then the following are equivalent:\n",
    "\n",
    "* $G$ is a tree (i.e. acyclic and connected);\n",
    "\n",
    "* $G$ is connected and $m = n-1$;\n",
    "\n",
    "* $G$ is a minimally connected graph (i.e., removing any edge will disconnect $G$);\n",
    "\n",
    "* $G$ is acyclic and $m = n-1$;\n",
    "\n",
    "* $G$ is a maximally acyclic graph (i.e., adding any edge will introduce a cycle in $G$).\n"
   ]
  },
  {
   "cell_type": "markdown",
   "metadata": {
    "slideshow": {
     "slide_type": "slide"
    }
   },
   "source": [
    "## Random Trees"
   ]
  },
  {
   "cell_type": "markdown",
   "metadata": {
    "slideshow": {
     "slide_type": "fragment"
    }
   },
   "source": [
    "We can ask `networkx` to produce a **random tree** with a given number of nodes:"
   ]
  },
  {
   "cell_type": "code",
   "execution_count": null,
   "metadata": {
    "scrolled": false,
    "slideshow": {
     "slide_type": "fragment"
    }
   },
   "outputs": [],
   "source": [
    "T = nx.random_tree(20)\n",
    "nx.draw(T, **opts)"
   ]
  },
  {
   "cell_type": "markdown",
   "metadata": {
    "slideshow": {
     "slide_type": "subslide"
    }
   },
   "source": [
    "**Note** how the nodes are labelled and stored for a random tree in `networkx`"
   ]
  },
  {
   "cell_type": "code",
   "execution_count": null,
   "metadata": {
    "slideshow": {
     "slide_type": "fragment"
    }
   },
   "outputs": [],
   "source": [
    "T.nodes()"
   ]
  },
  {
   "cell_type": "markdown",
   "metadata": {
    "slideshow": {
     "slide_type": "subslide"
    }
   },
   "source": [
    "<b>Theorem (Cayley's Formula).</b>\n",
    "    There are exactly $n^{n-2}$ distinct (labelled) trees on the $n$-element vertex set \n",
    "    $X = \\{0, 1, 2, \\dots, n-1\\}$, if $n > 1$."
   ]
  },
  {
   "cell_type": "markdown",
   "metadata": {
    "slideshow": {
     "slide_type": "subslide"
    }
   },
   "source": [
    "Also, there is one (trivial) tree on $1$ vertex, but there is no tree on $0$ vertices.  Some values for $n > 1$:"
   ]
  },
  {
   "cell_type": "code",
   "execution_count": null,
   "metadata": {},
   "outputs": [],
   "source": [
    "domain = range(2, 10)\n",
    "print(np.array([domain, [n**(n-2) for n in domain]]))"
   ]
  },
  {
   "cell_type": "markdown",
   "metadata": {
    "slideshow": {
     "slide_type": "subslide"
    }
   },
   "source": [
    "**Proof.** Each tree on $X = \\{0, 1, 2, \\dots, n-1\\}$ corresponds to a unique sequence of\n",
    "$n-2$ elements of $X$, its [**Prüfer Code**](https://en.wikipedia.org/wiki/Pr%C3%BCfer_sequence)."
   ]
  },
  {
   "cell_type": "code",
   "execution_count": null,
   "metadata": {
    "slideshow": {
     "slide_type": "fragment"
    }
   },
   "outputs": [],
   "source": [
    "n = 8\n",
    "TT = nx.random_tree(n)\n",
    "nx.draw(TT, **opts)"
   ]
  },
  {
   "cell_type": "markdown",
   "metadata": {
    "slideshow": {
     "slide_type": "subslide"
    }
   },
   "source": [
    "How to determine the Prüfer code of a tree $T$ (destructively):\n",
    "\n",
    "* Find the smallest leaf $x$\n",
    "* Record the label $y$ of its unique neighbor\n",
    "* Remove $x$ (and the edge $x - y$) from $T$\n",
    "* Repeat until $T$ has only $2$ nodes left."
   ]
  },
  {
   "cell_type": "code",
   "execution_count": null,
   "metadata": {
    "slideshow": {
     "slide_type": "subslide"
    }
   },
   "outputs": [],
   "source": [
    "def pruefer_list(tree):\n",
    "    for x in tree:\n",
    "        if tree.degree(x) == 1:\n",
    "            for y in tree[x]:\n",
    "                tree.remove_node(x)\n",
    "                return [x, y] "
   ]
  },
  {
   "cell_type": "markdown",
   "metadata": {},
   "source": [
    "**Note.** Here we can skip step $1$ of the algorithm since the nodes are visited from the smallest to the largest anyway."
   ]
  },
  {
   "cell_type": "code",
   "execution_count": null,
   "metadata": {
    "slideshow": {
     "slide_type": "subslide"
    }
   },
   "outputs": [],
   "source": [
    "T = TT.copy()\n",
    "code = [pruefer_list(T) for k in range(n-2)]"
   ]
  },
  {
   "cell_type": "code",
   "execution_count": null,
   "metadata": {
    "slideshow": {
     "slide_type": "fragment"
    }
   },
   "outputs": [],
   "source": [
    "print(np.array(code).transpose())"
   ]
  },
  {
   "cell_type": "markdown",
   "metadata": {
    "slideshow": {
     "slide_type": "subslide"
    }
   },
   "source": [
    "This process destroys the tree `T` almost completely."
   ]
  },
  {
   "cell_type": "code",
   "execution_count": null,
   "metadata": {
    "slideshow": {
     "slide_type": "fragment"
    }
   },
   "outputs": [],
   "source": [
    "print(T.nodes())\n",
    "print(T.edges())"
   ]
  },
  {
   "cell_type": "markdown",
   "metadata": {
    "slideshow": {
     "slide_type": "subslide"
    }
   },
   "source": [
    "Let's wrap this up as a `python` function"
   ]
  },
  {
   "cell_type": "code",
   "execution_count": null,
   "metadata": {
    "slideshow": {
     "slide_type": "fragment"
    }
   },
   "outputs": [],
   "source": [
    "def pruefer_node(tree):\n",
    "    for x in tree:\n",
    "        if tree.degree(x) == 1:\n",
    "            for y in tree[x]:\n",
    "                tree.remove_node(x)\n",
    "                return y"
   ]
  },
  {
   "cell_type": "code",
   "execution_count": null,
   "metadata": {
    "slideshow": {
     "slide_type": "fragment"
    }
   },
   "outputs": [],
   "source": [
    "def pruefer_code(tree):\n",
    "    return [pruefer_node(tree) for k in range(tree.order() - 2)]"
   ]
  },
  {
   "cell_type": "code",
   "execution_count": null,
   "metadata": {
    "slideshow": {
     "slide_type": "subslide"
    }
   },
   "outputs": [],
   "source": [
    "T = TT.copy()\n",
    "code = pruefer_code(T)\n",
    "code"
   ]
  },
  {
   "cell_type": "markdown",
   "metadata": {
    "slideshow": {
     "slide_type": "subslide"
    }
   },
   "source": [
    "Maybe surprisingly, the tree can be reconstructed from its Prüfer code.  This is based on the following fact\n",
    "and shows that the map from trees to codes is a bijection!\n",
    "\n",
    "\n",
    "<b>Fact:</b> The degree of node $x$ is $1$ plus the number of entries $x$ in the Prüfer code of $T$.\n"
   ]
  },
  {
   "cell_type": "code",
   "execution_count": null,
   "metadata": {
    "slideshow": {
     "slide_type": "subslide"
    }
   },
   "outputs": [],
   "source": [
    "degrees = [1 for k in range(n)]\n",
    "for k in code:\n",
    "    degrees[k] += 1\n",
    "degrees"
   ]
  },
  {
   "cell_type": "code",
   "execution_count": null,
   "metadata": {
    "slideshow": {
     "slide_type": "fragment"
    }
   },
   "outputs": [],
   "source": [
    "[TT.degree[x] for x in TT]"
   ]
  },
  {
   "cell_type": "markdown",
   "metadata": {
    "slideshow": {
     "slide_type": "subslide"
    }
   },
   "source": [
    "How to restore the tree from its Prüfer code:\n",
    "\n",
    "* Start with a graph with vertex set $X = \\{0, 1, 2, \\dots, n-1\\}$ (and no edges yet).\n",
    "* Compute the desired node degrees from the code.\n",
    "* For each node $y$ in the code find the smallest degree-$1$-node $x$ and\n",
    "add the edge $x - y$, then decrease the degrees of both $x$ and $y$ by $1$.\n",
    "* Finally, connect the remaining $2$ nodes of degrees $1$ by an edge."
   ]
  },
  {
   "cell_type": "code",
   "execution_count": null,
   "metadata": {
    "slideshow": {
     "slide_type": "subslide"
    }
   },
   "outputs": [],
   "source": [
    "T = nx.empty_graph(n)\n",
    "nx.draw(T, **opts)"
   ]
  },
  {
   "cell_type": "code",
   "execution_count": null,
   "metadata": {
    "slideshow": {
     "slide_type": "subslide"
    }
   },
   "outputs": [],
   "source": [
    "code"
   ]
  },
  {
   "cell_type": "code",
   "execution_count": null,
   "metadata": {
    "slideshow": {
     "slide_type": "subslide"
    }
   },
   "outputs": [],
   "source": [
    "# repeat n-2 times:\n",
    "for y in code:\n",
    "    x = degrees.index(1)\n",
    "    T.add_edge(x, y)\n",
    "    degrees[x] -= 1;  degrees[y] -= 1\n",
    "    print(degrees, \": edge\", x, \"--\", y)\n"
   ]
  },
  {
   "cell_type": "markdown",
   "metadata": {
    "slideshow": {
     "slide_type": "fragment"
    }
   },
   "source": [
    "Add the final edge:"
   ]
  },
  {
   "cell_type": "code",
   "execution_count": null,
   "metadata": {
    "slideshow": {
     "slide_type": "fragment"
    }
   },
   "outputs": [],
   "source": [
    "e = [x for x in range(n) if degrees[x] == 1]\n",
    "T.add_edge(*e)\n",
    "print(e)"
   ]
  },
  {
   "cell_type": "code",
   "execution_count": null,
   "metadata": {
    "slideshow": {
     "slide_type": "subslide"
    }
   },
   "outputs": [],
   "source": [
    "nx.draw(T, **opts)"
   ]
  },
  {
   "cell_type": "markdown",
   "metadata": {
    "slideshow": {
     "slide_type": "subslide"
    }
   },
   "source": [
    "Turn the entire procedure into a `python` function:"
   ]
  },
  {
   "cell_type": "code",
   "execution_count": null,
   "metadata": {
    "slideshow": {
     "slide_type": "fragment"
    }
   },
   "outputs": [],
   "source": [
    "def tree_pruefer(code):\n",
    "\n",
    "    # initialize graph and defects\n",
    "    n = len(code) + 2\n",
    "    tree = nx.empty_graph(n)\n",
    "    degrees = [1 for x in tree]\n",
    "    for y in code:\n",
    "        degrees[y] += 1\n",
    "        \n",
    "    # add edges\n",
    "    for y in code:\n",
    "        for x in tree:\n",
    "            if degrees[x] == 1:\n",
    "                tree.add_edge(x, y)\n",
    "                for z in (x, y):\n",
    "                    degrees[z] -= 1\n",
    "                break\n",
    "                \n",
    "    # final edge\n",
    "    e = [x for x in tree if degrees[x] == 1]\n",
    "    tree.add_edge(*e)\n",
    "    \n",
    "    return tree"
   ]
  },
  {
   "cell_type": "markdown",
   "metadata": {
    "slideshow": {
     "slide_type": "subslide"
    }
   },
   "source": [
    "* We can now construct a random tree on $n$ nodes from a random Prüfer code of length $n-2$."
   ]
  },
  {
   "cell_type": "code",
   "execution_count": null,
   "metadata": {
    "slideshow": {
     "slide_type": "fragment"
    }
   },
   "outputs": [],
   "source": [
    "code = np.random.randint(n, size=n-2)\n",
    "code"
   ]
  },
  {
   "cell_type": "code",
   "execution_count": null,
   "metadata": {
    "slideshow": {
     "slide_type": "subslide"
    }
   },
   "outputs": [],
   "source": [
    "tree = tree_pruefer(code)\n",
    "nx.draw(tree, **opts)"
   ]
  },
  {
   "cell_type": "markdown",
   "metadata": {
    "slideshow": {
     "slide_type": "subslide"
    }
   },
   "source": [
    "Finally, we wrap this up into our own `python` function `random_tree`."
   ]
  },
  {
   "cell_type": "code",
   "execution_count": null,
   "metadata": {
    "slideshow": {
     "slide_type": "fragment"
    }
   },
   "outputs": [],
   "source": [
    "def random_tree(n):\n",
    "    code = np.random.randint(n, size=n-2)\n",
    "    return tree_pruefer(code)"
   ]
  },
  {
   "cell_type": "code",
   "execution_count": null,
   "metadata": {
    "slideshow": {
     "slide_type": "subslide"
    }
   },
   "outputs": [],
   "source": [
    "T = random_tree(20)\n"
   ]
  },
  {
   "cell_type": "code",
   "execution_count": null,
   "metadata": {
    "slideshow": {
     "slide_type": "fragment"
    }
   },
   "outputs": [],
   "source": [
    "nx.draw(T, **opts)"
   ]
  },
  {
   "cell_type": "markdown",
   "metadata": {
    "slideshow": {
     "slide_type": "slide"
    }
   },
   "source": [
    "## Next: Depth First and Breadth First Search"
   ]
  },
  {
   "cell_type": "markdown",
   "metadata": {
    "slideshow": {
     "slide_type": "fragment"
    }
   },
   "source": [
    "[DFS](https://en.wikipedia.org/wiki/Depth-first_search)\n",
    "and [BFS](https://en.wikipedia.org/wiki/Breadth-first_search)\n",
    "are simple but efficient tree (and graph) traversal algorithms."
   ]
  },
  {
   "cell_type": "markdown",
   "metadata": {},
   "source": [
    "##  Code Corner"
   ]
  },
  {
   "cell_type": "markdown",
   "metadata": {},
   "source": [
    "### `python`"
   ]
  },
  {
   "cell_type": "markdown",
   "metadata": {},
   "source": [
    "* `+=`, `-=`: augmented assignment statements [[doc]](https://docs.python.org/3/reference/simple_stmts.html#augmented-assignment-statements)"
   ]
  },
  {
   "cell_type": "markdown",
   "metadata": {},
   "source": [
    "### `networkx`"
   ]
  },
  {
   "cell_type": "markdown",
   "metadata": {},
   "source": [
    "* `connected_components` [[doc]](https://networkx.github.io/documentation/stable/reference/algorithms/component.html)\n",
    "\n",
    "* `random_tree` [[doc]](https://networkx.github.io/documentation/stable/reference/generated/networkx.generators.trees.random_tree.html)\n",
    "\n",
    "* `copy`: [[doc]](https://networkx.org/documentation/stable/reference/classes/generated/networkx.Graph.copy.html)\n",
    "\n",
    "* `empty_graph` [[doc]](https://networkx.github.io/documentation/stable/reference/generated/networkx.generators.classic.empty_graph.html)"
   ]
  },
  {
   "cell_type": "markdown",
   "metadata": {},
   "source": [
    "### `numpy`"
   ]
  },
  {
   "cell_type": "markdown",
   "metadata": {},
   "source": [
    "* `array`: [[doc]](https://numpy.org/doc/stable/reference/generated/numpy.array.html)\n",
    "\n",
    "* `transpose`: [[doc]](https://numpy.org/doc/stable/reference/generated/numpy.transpose.html)\n",
    "\n",
    "* `random.randint`: [[doc]](https://numpy.org/doc/stable/reference/random/generated/numpy.random.randint.html)"
   ]
  },
  {
   "cell_type": "markdown",
   "metadata": {},
   "source": [
    "## Exercises\n",
    "\n",
    "1.  A tree $T$ uniquely determines its Prüfer code,\n",
    "and hence the two nodes that remain after (destructively)\n",
    "computing the code.   What are those two nodes, in terms of\n",
    "properties of $T$, or its Prüfer code?\n",
    "\n",
    "2. What tree has Prüfer code $(0, 1, 2, \\dots, n-3)$?"
   ]
  },
  {
   "cell_type": "code",
   "execution_count": null,
   "metadata": {},
   "outputs": [],
   "source": []
  }
 ],
 "metadata": {
  "celltoolbar": "Slideshow",
  "kernelspec": {
   "display_name": "Python 3 (ipykernel)",
   "language": "python",
   "name": "python3"
  },
  "language_info": {
   "codemirror_mode": {
    "name": "ipython",
    "version": 3
   },
   "file_extension": ".py",
   "mimetype": "text/x-python",
   "name": "python",
   "nbconvert_exporter": "python",
   "pygments_lexer": "ipython3",
   "version": "3.9.7"
  }
 },
 "nbformat": 4,
 "nbformat_minor": 1
}
