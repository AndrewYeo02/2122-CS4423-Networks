{
 "cells": [
  {
   "cell_type": "markdown",
   "metadata": {
    "slideshow": {
     "slide_type": "slide"
    }
   },
   "source": [
    "### CS4423 - Networks\n",
    "Angela Carnevale<br />\n",
    "School of Mathematical and Statistical Sciences<br />\n",
    "NUI Galway\n",
    "\n",
    "# Week 1, Lecture 1: \n",
    "# Introduction to Networks"
   ]
  },
  {
   "cell_type": "markdown",
   "metadata": {
    "slideshow": {
     "slide_type": "slide"
    }
   },
   "source": [
    "# Module information\n",
    "\n",
    "Also available on the CS4423 Blackboard"
   ]
  },
  {
   "cell_type": "markdown",
   "metadata": {
    "slideshow": {
     "slide_type": "subslide"
    }
   },
   "source": [
    "## What this is about: connections.\n",
    "\n",
    "Modern societies are in many ways **highly connected**.  Certain aspects of this\n",
    "phenomenon are frequently described as **networks**.\n",
    "This course is meant as an introduction into the emerging interdisciplinary subject of **network science**."
   ]
  },
  {
   "cell_type": "markdown",
   "metadata": {
    "slideshow": {
     "slide_type": "subslide"
    }
   },
   "source": [
    "## Lectures\n",
    "\n",
    "* This term, **all lectures will be on campus**, at the following times:\n",
    "* Wednesday at 9am in McMunn and Thursday at 2pm in Larmor.\n",
    "* Tentatively, lectures will be livestreamed via Zoom.\n",
    "* Lecture slides and other relevant material can be found on the CS4423 Blackboard page.\n",
    "* Some of our lectures will be practicals."
   ]
  },
  {
   "cell_type": "markdown",
   "metadata": {
    "slideshow": {
     "slide_type": "subslide"
    }
   },
   "source": [
    "## Assessment and assignments\n",
    "\n",
    "* There will be some homework assignments, 5 (TBC)\n",
    "  over the semester.\n",
    "  \n",
    "* The assignments will be marked and contribute\n",
    "  a **continuous assessment** mark worth $40\\%$ of the\n",
    "  overall score.\n",
    "  \n",
    "* The remaining $60\\%$ comes from the **Summer exam**.\n",
    "\n",
    "* The exam will have $4$ questions, each worth $15\\%$."
   ]
  },
  {
   "cell_type": "markdown",
   "metadata": {
    "slideshow": {
     "slide_type": "subslide"
    }
   },
   "source": [
    "## Useful Books\n",
    "\n",
    "* Vito Latora, Vincenzo Nicosia and Giovanni Russo.\n",
    "  <br/> **Complex Networks.**  Cambridge UP 2017.\n",
    "* Mark Newman.\n",
    "  <br/> **Networks: an Introduction.**  Oxford UP 2018.\n",
    "* Albert-L&aacute;szl&oacute; Barab&aacute;si.\n",
    "  <br/> **Network Science.** Cambridge UP 2016.\n",
    "* Ernesto Estrada and Philip A. Knight.\n",
    "  <br/> **A first course in network theory.** Oxford UP 2015.\n",
    "* David Easley and Jon Kleinberg.\n",
    "  <br/> **Networks, Crowds and Markets.** Cambridge UP 2010."
   ]
  },
  {
   "cell_type": "markdown",
   "metadata": {
    "slideshow": {
     "slide_type": "slide"
    }
   },
   "source": [
    "# Getting started"
   ]
  },
  {
   "cell_type": "markdown",
   "metadata": {
    "slideshow": {
     "slide_type": "subslide"
    }
   },
   "source": [
    "##  Examples of Networks?\n",
    "\n",
    "..."
   ]
  },
  {
   "cell_type": "markdown",
   "metadata": {
    "slideshow": {
     "slide_type": "subslide"
    }
   },
   "source": [
    "## Examples of Networks\n",
    "\n",
    "Newman broadly divides the most commonly studied\n",
    "real world networks into four classes:\n",
    "\n",
    "* **technological** networks,\n",
    "\n",
    "* **social** networks,\n",
    "\n",
    "* **information** networks and\n",
    "\n",
    "* **biological** networks."
   ]
  },
  {
   "cell_type": "markdown",
   "metadata": {
    "slideshow": {
     "slide_type": "subslide"
    }
   },
   "source": [
    "There is of course some **overlap** between these classes.  But it is an\n",
    "interesting exercise to list some examples within each class, and\n",
    "to describe their **general structure**.\n",
    "\n",
    "* In each case, a network connects parts of a system (**nodes**)\n",
    "by some means (**links**).\n",
    "* Different techniques used to **display**, **discover** and **measure** the structure in each example."
   ]
  },
  {
   "cell_type": "markdown",
   "metadata": {
    "slideshow": {
     "slide_type": "slide"
    }
   },
   "source": [
    "## Technological Networks\n",
    "\n",
    "* Technological networks rely on a **physical infrastructure**.\n",
    "\n",
    "* In many\n",
    "cases, this infrastructure has been built over many decades\n",
    "\n",
    "* It forms\n",
    "part of the **backbone** of modern societies.\n",
    "\n",
    "* This includes\n",
    "  * **road** and\n",
    "  other **transportation networks**,\n",
    "  * **power grids**,\n",
    "  * the **telephone network**, and more recently\n",
    "  * the **Internet**.\n",
    "\n",
    "\n"
   ]
  },
  {
   "cell_type": "markdown",
   "metadata": {
    "slideshow": {
     "slide_type": "subslide"
    }
   },
   "source": [
    "## Power Grid\n",
    "\n",
    "![EirGrid](https://www.energyco-ops.ie/wp-content/uploads/2012/03/eirgrid_large.jpg)"
   ]
  },
  {
   "cell_type": "markdown",
   "metadata": {
    "slideshow": {
     "slide_type": "subslide"
    }
   },
   "source": [
    "## Transportation networks\n",
    "\n",
    "![Tube Map](https://www.bbc.co.uk/london/travel/downloads/tube_map.gif)"
   ]
  },
  {
   "cell_type": "markdown",
   "metadata": {
    "slideshow": {
     "slide_type": "subslide"
    }
   },
   "source": [
    "## The Internet 2010\n",
    "\n",
    "![Internet2010](https://angelacarnevale.github.io//opte-2010.jpg)\n",
    "\n",
    "(www.opte.org)"
   ]
  },
  {
   "cell_type": "markdown",
   "metadata": {
    "slideshow": {
     "slide_type": "slide"
    }
   },
   "source": [
    "## Social Networks\n",
    "\n",
    "* The vertices of a social network are **people**, with edges\n",
    "representing some sort of **social interaction**.\n",
    "\n",
    "* In **sociology**, the vertices are often called **actors**, and the\n",
    "edges are called **ties**.\n",
    "\n",
    "* A social network's **existence** does not depend on social networking\n",
    "sites like `facebook` or `twitter`.\n",
    "\n",
    "* Sociologists have studied social networks long before people started\n",
    "exhibiting their relations to others online.\n",
    "\n",
    "* Traditionally, data about the structure of social networks have been\n",
    "compiled by **interviewing** the people involved."
   ]
  },
  {
   "cell_type": "markdown",
   "metadata": {
    "slideshow": {
     "slide_type": "slide"
    }
   },
   "source": [
    "## Information Networks\n",
    "\n",
    "* An **information network** consists of **data items**\n",
    "which are linked to each other in some way.\n",
    "\n",
    "* Example: **relational databases**.\n",
    "\n",
    "* Sets of information\n",
    "(like **scientific publications**) have been\n",
    "linking to each other (e.g., through **citations**)\n",
    "long before computers were invented.\n",
    "\n",
    "* However, links in digital form are  easier to follow ...\n",
    "\n"
   ]
  },
  {
   "cell_type": "markdown",
   "metadata": {
    "slideshow": {
     "slide_type": "slide"
    }
   },
   "source": [
    "## The (World Wide) Web\n",
    "\n",
    "* The **WWW** is probably the most wide spread and best known examples of an\n",
    "information network.\n",
    "\n",
    "*  Its nodes are **web pages** containing information\n",
    "in form of text and pictures, and its edges are the **hyperlinks**,\n",
    "allowing us to surf, or **navigate** from page to page.\n",
    "\n",
    "* Hyperlinks run in **one direction only**, from the page that contains the\n",
    "hyperlink to the page that is referenced.\n",
    "\n",
    "*   Therefore, the WWW is a **directed network**, a graph where each edge has a direction.\n"
   ]
  },
  {
   "cell_type": "markdown",
   "metadata": {
    "slideshow": {
     "slide_type": "slide"
    }
   },
   "source": [
    "## Biological Networks\n",
    "\n",
    "* **Biochemical networks** represent molecular level patterns of interaction\n",
    "and control mechanisms in the biological cell:\n",
    "  * **metabolic** networks,\n",
    "  * **protein-protein interaction** networks and\n",
    "  * **genetic regulatory** networks.\n",
    "\n",
    "* A **neural network** can be represented as a set of\n",
    "vertices, the neurons, connected by two types of directed edges, one\n",
    "for excitatory inputs and one for inhibiting inputs.\n",
    "\n",
    "* **Ecological networks** are networks of ecological interactions\n",
    "  between species.\n",
    "\n"
   ]
  },
  {
   "cell_type": "markdown",
   "metadata": {
    "slideshow": {
     "slide_type": "subslide"
    }
   },
   "source": [
    "## Metabolic Networks\n",
    "\n",
    "![metabolic](https://angelacarnevale.github.io/MMM.png)\n",
    "(source: Wikipedia)"
   ]
  },
  {
   "cell_type": "markdown",
   "metadata": {
    "slideshow": {
     "slide_type": "slide"
    }
   },
   "source": [
    "## Simple Forms of Networks\n",
    "\n",
    "* In its simplest form, a network is just a collection of points (called **vertices** or **nodes**), some of which are joined in pairs (called **edges** or **links**).\n",
    "\n",
    "* Many systems of interest are composed of  individual parts that are in some way linked together.\n",
    "\n",
    "* Such systems can be regarded as networks, and thinking about them in this way can often lead to new and useful **insights**.\n",
    "\n",
    "* **Network science** studies the **pattern of connections** between the components of a system.\n",
    "\n",
    "* Naturally, the **structure** of the network can have a big impact on\n",
    "  the **behavior** of a system.\n",
    "\n",
    "* The connections in a **social network**, for example, affect how people learn, form opinions, or spread a disease ..."
   ]
  },
  {
   "cell_type": "markdown",
   "metadata": {
    "slideshow": {
     "slide_type": "subslide"
    }
   },
   "source": [
    "## Network Science\n",
    "\n",
    "* A network is a **simplified representation** of a complex system\n",
    "by vertices and edges.\n",
    "\n",
    "* The scientific study of networks is an **interdisciplinary**\n",
    "undertaking that combines ideas from\n",
    "  * mathematics,\n",
    "  * computer science,\n",
    "  * physics,\n",
    "  * the social sciences,\n",
    "  * biology\n",
    "  * ...\n",
    "\n",
    "* Between these scientific fields, many **tools** have been developed\n",
    "for **analyzing**, **modeling** and **understanding** networks."
   ]
  },
  {
   "cell_type": "markdown",
   "metadata": {
    "slideshow": {
     "slide_type": "subslide"
    }
   },
   "source": [
    "## Network Measures\n",
    "\n",
    "* An example of a useful and important type of network measures\n",
    "is that of **centrality**.\n",
    "\n",
    "* It is concerned with the question of\n",
    "how **important** a particular vertex or edge is in a networked system.\n",
    "\n",
    "* Different concepts have been proposed to capture **mathematically**\n",
    "what it means to be central.\n",
    "\n",
    "* For example, a simple measure of the centrality\n",
    "of a vertex is its **degree**, i.e., the number of edges it is part of (or equivalently the number of vertices it is adjacent to).\n",
    "\n",
    "* Which measurements and calculations give **meaningful answers** for a\n",
    "particular system depends of course on the specific nature of the system\n",
    "and the questions one wants to ask."
   ]
  },
  {
   "cell_type": "markdown",
   "metadata": {
    "slideshow": {
     "slide_type": "subslide"
    }
   },
   "source": [
    "## Network Concepts\n",
    "\n",
    "* Another interesting network concept is the **small-world effect**.\n",
    "\n",
    "* It is concerned with the question of how far apart two randomly\n",
    "  chosen points in a network typically are.\n",
    "\n",
    "*  Here, **distance** is usually\n",
    "   measured by the number of edges one would need to cross over, when travelling\n",
    "   along a **path** from one vertex to the other.\n",
    "\n",
    "* In real world social networks\n",
    "  the distance between people tends to be rather small.\n",
    "\n",
    "* This observation is known\n",
    "  as the [**six degrees of separation**](https://en.wikipedia.org/wiki/Six_degrees_of_separation) in popular culture."
   ]
  },
  {
   "cell_type": "markdown",
   "metadata": {
    "slideshow": {
     "slide_type": "slide"
    }
   },
   "source": [
    "## Contents\n",
    "\n",
    "This course is meant as an **introduction to Network Science**\n",
    "where, within the given time and space constraints, some\n",
    "but certainly not all of its interesting aspects will be discussed.\n",
    "\n",
    "1. Graphs and Graph Theory\n",
    "\n",
    "2. Centrality Measures\n",
    "\n",
    "3. Random Graphs\n",
    "\n",
    "4. Small Worlds\n",
    "\n",
    "5. Power Laws and Scale-Free Graphs\n",
    "\n",
    "6. Models of Growing Graphs"
   ]
  },
  {
   "cell_type": "markdown",
   "metadata": {
    "slideshow": {
     "slide_type": "slide"
    }
   },
   "source": [
    "## Jupyter Notebooks and other Software\n",
    "\n",
    "* Lecture notes and Assignments come in the form of `jupyter`  notebooks.\n",
    "\n",
    "* This allows us to include interactive `python` code\n",
    "  with the text.\n",
    "  \n",
    "* The notebooks will be uploaded on the CS4423 Blackboard page.\n",
    "\n",
    "* If `jupyter` is installed on your computer, you can download\n",
    "  the notebooks and execute them there.\n",
    "  \n",
    "* Alternatively, you can follow the link \n",
    "[![Open in Binder](https://mybinder.org/badge_logo.svg)](https://mybinder.org/v2/gh/angelacarnevale/2122-CS4423-Networks/HEAD)\n",
    "to execute the notebooks on `binder`."
   ]
  },
  {
   "cell_type": "markdown",
   "metadata": {
    "slideshow": {
     "slide_type": "slide"
    }
   },
   "source": [
    "## Networkx\n",
    "\n",
    "We will use the `networkx` package and other packages from the\n",
    "`python` scientific stack to work on nontrivial examples of networks."
   ]
  },
  {
   "cell_type": "code",
   "execution_count": null,
   "metadata": {
    "slideshow": {
     "slide_type": "subslide"
    }
   },
   "outputs": [],
   "source": [
    "import networkx as nx\n",
    "nx.__version__"
   ]
  },
  {
   "cell_type": "markdown",
   "metadata": {
    "slideshow": {
     "slide_type": "subslide"
    }
   },
   "source": [
    "`networkx` allows us to quickly construct graphs and to work with their elements."
   ]
  },
  {
   "cell_type": "code",
   "execution_count": null,
   "metadata": {
    "slideshow": {
     "slide_type": "subslide"
    }
   },
   "outputs": [],
   "source": [
    "G = nx.Graph([\"AB\", \"BC\", \"BD\", \"CD\"]) \n",
    "list(G.nodes)"
   ]
  },
  {
   "cell_type": "code",
   "execution_count": null,
   "metadata": {
    "slideshow": {
     "slide_type": "subslide"
    }
   },
   "outputs": [],
   "source": [
    "list(G.edges)"
   ]
  },
  {
   "cell_type": "markdown",
   "metadata": {
    "slideshow": {
     "slide_type": "subslide"
    }
   },
   "source": [
    "The `matplotlib` package contains the functionality needed to draw\n",
    "a diagram of the graph we just defined."
   ]
  },
  {
   "cell_type": "code",
   "execution_count": null,
   "metadata": {
    "slideshow": {
     "slide_type": "subslide"
    }
   },
   "outputs": [],
   "source": [
    "nx.draw(G, with_labels=True)"
   ]
  },
  {
   "cell_type": "markdown",
   "metadata": {
    "slideshow": {
     "slide_type": "slide"
    }
   },
   "source": [
    "More about graphs and their implementation in the next lecture ..."
   ]
  },
  {
   "cell_type": "markdown",
   "metadata": {
    "slideshow": {
     "slide_type": "slide"
    }
   },
   "source": [
    "## Summary\n",
    "\n",
    "We hope to develop a **network perspective** as a powerful way of looking\n",
    "at **complex systems** in general.  Networks provide a way of thinking\n",
    "about \n",
    "\n",
    "* social dynamics, \n",
    "* economic interaction, \n",
    "* online information,\n",
    "* designed technology and \n",
    "* natural processes, \n",
    "\n",
    "and approaching such systems with an eye toward their \n",
    "**internal structural patterns** and the\n",
    "resulting **rich feedback effects**.\n"
   ]
  },
  {
   "cell_type": "markdown",
   "metadata": {
    "slideshow": {
     "slide_type": "slide"
    }
   },
   "source": [
    "## Code Corner"
   ]
  },
  {
   "cell_type": "markdown",
   "metadata": {
    "slideshow": {
     "slide_type": "slide"
    }
   },
   "source": [
    "### `python`"
   ]
  },
  {
   "cell_type": "markdown",
   "metadata": {
    "slideshow": {
     "slide_type": "subslide"
    }
   },
   "source": [
    "* The `import` statement [[doc]](https://docs.python.org/3/reference/simple_stmts.html#import)\n",
    "  provides access to packages, or their parts and elements."
   ]
  },
  {
   "cell_type": "code",
   "execution_count": null,
   "metadata": {
    "slideshow": {
     "slide_type": "subslide"
    }
   },
   "outputs": [],
   "source": [
    "import math \n",
    "math.pi"
   ]
  },
  {
   "cell_type": "code",
   "execution_count": null,
   "metadata": {
    "slideshow": {
     "slide_type": "subslide"
    }
   },
   "outputs": [],
   "source": [
    "from math import pi\n",
    "pi"
   ]
  },
  {
   "cell_type": "code",
   "execution_count": null,
   "metadata": {
    "slideshow": {
     "slide_type": "subslide"
    }
   },
   "outputs": [],
   "source": [
    "import numpy as np\n",
    "np.array([1,2,3])"
   ]
  },
  {
   "cell_type": "markdown",
   "metadata": {
    "slideshow": {
     "slide_type": "subslide"
    }
   },
   "source": [
    "* The `list` constructor [[doc]](https://docs.python.org/3/library/stdtypes.html#list)\n",
    "  tries and creates a list from its arguments."
   ]
  },
  {
   "cell_type": "code",
   "execution_count": null,
   "metadata": {
    "slideshow": {
     "slide_type": "subslide"
    }
   },
   "outputs": [],
   "source": [
    "list(\"networks\")"
   ]
  },
  {
   "cell_type": "code",
   "execution_count": null,
   "metadata": {
    "slideshow": {
     "slide_type": "subslide"
    }
   },
   "outputs": [],
   "source": [
    "list((1,2,3,4))"
   ]
  },
  {
   "cell_type": "markdown",
   "metadata": {
    "slideshow": {
     "slide_type": "slide"
    }
   },
   "source": [
    "### `networkx`"
   ]
  },
  {
   "cell_type": "markdown",
   "metadata": {
    "slideshow": {
     "slide_type": "subslide"
    }
   },
   "source": [
    "* The `Graph` constructor [[doc]](https://networkx.github.io/documentation/networkx-1.10/tutorial/tutorial.html)\n",
    "can be used to construct a graph from data in various formats. "
   ]
  },
  {
   "cell_type": "code",
   "execution_count": null,
   "metadata": {
    "slideshow": {
     "slide_type": "subslide"
    }
   },
   "outputs": [],
   "source": [
    "edges = [\"01\", \"12\", \"23\", \"30\"]\n",
    "G = nx.Graph(edges) \n"
   ]
  },
  {
   "cell_type": "markdown",
   "metadata": {
    "slideshow": {
     "slide_type": "subslide"
    }
   },
   "source": [
    "* The `draw` function [[doc]](https://networkx.github.io/documentation/networkx-1.10/reference/drawing.html) depends on the `mathplotlib` library."
   ]
  },
  {
   "cell_type": "code",
   "execution_count": null,
   "metadata": {
    "slideshow": {
     "slide_type": "subslide"
    }
   },
   "outputs": [],
   "source": [
    "nx.draw(G, with_labels=True)"
   ]
  },
  {
   "cell_type": "markdown",
   "metadata": {
    "slideshow": {
     "slide_type": "slide"
    }
   },
   "source": [
    "## Exercises\n",
    "\n",
    "1. Import the `sin` function from the `math` package and\n",
    "   use it to compute $\\sin(\\pi/4)$.\n",
    "   \n",
    "2. Construct and draw a graph with $5$ nodes and $5$ edges\n",
    "   that form a circle."
   ]
  }
 ],
 "metadata": {
  "celltoolbar": "Slideshow",
  "kernelspec": {
   "display_name": "Python 3 (ipykernel)",
   "language": "python",
   "name": "python3"
  },
  "language_info": {
   "codemirror_mode": {
    "name": "ipython",
    "version": 3
   },
   "file_extension": ".py",
   "mimetype": "text/x-python",
   "name": "python",
   "nbconvert_exporter": "python",
   "pygments_lexer": "ipython3",
   "version": "3.9.7"
  }
 },
 "nbformat": 4,
 "nbformat_minor": 1
}
